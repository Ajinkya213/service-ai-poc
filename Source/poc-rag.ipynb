{
 "cells": [
  {
   "cell_type": "code",
   "execution_count": 1,
   "metadata": {
    "_cell_guid": "b1076dfc-b9ad-4769-8c92-a6c4dae69d19",
    "_uuid": "8f2839f25d086af736a60e9eeb907d3b93b6e0e5",
    "execution": {
     "iopub.execute_input": "2025-05-25T12:07:34.110264Z",
     "iopub.status.busy": "2025-05-25T12:07:34.110096Z",
     "iopub.status.idle": "2025-05-25T12:07:35.250193Z",
     "shell.execute_reply": "2025-05-25T12:07:35.249401Z",
     "shell.execute_reply.started": "2025-05-25T12:07:34.110240Z"
    },
    "trusted": true
   },
   "outputs": [],
   "source": [
    "# This Python 3 environment comes with many helpful analytics libraries installed\n",
    "# It is defined by the kaggle/python Docker image: https://github.com/kaggle/docker-python\n",
    "# For example, here's several helpful packages to load\n",
    "\n",
    "import numpy as np # linear algebra\n",
    "import pandas as pd # data processing, CSV file I/O (e.g. pd.read_csv)\n",
    "\n",
    "# Input data files are available in the read-only \"../input/\" directory\n",
    "# For example, running this (by clicking run or pressing Shift+Enter) will list all files under the input directory\n",
    "\n",
    "# import os\n",
    "# for dirname, _, filenames in os.walk('/kaggle/input'):\n",
    "#     for filename in filenames:\n",
    "#         print(os.path.join(dirname, filename))\n",
    "\n",
    "# You can write up to 20GB to the current directory (/kaggle/working/) that gets preserved as output when you create a version using \"Save & Run All\" \n",
    "# You can also write temporary files to /kaggle/temp/, but they won't be saved outside of the current session"
   ]
  },
  {
   "cell_type": "markdown",
   "metadata": {},
   "source": [
    "# 1. Importing the necessary libraries for Colpali"
   ]
  },
  {
   "cell_type": "code",
   "execution_count": 2,
   "metadata": {
    "execution": {
     "iopub.execute_input": "2025-05-25T12:07:49.322400Z",
     "iopub.status.busy": "2025-05-25T12:07:49.322127Z",
     "iopub.status.idle": "2025-05-25T12:09:05.149311Z",
     "shell.execute_reply": "2025-05-25T12:09:05.148582Z",
     "shell.execute_reply.started": "2025-05-25T12:07:49.322378Z"
    },
    "trusted": true
   },
   "outputs": [
    {
     "name": "stdout",
     "output_type": "stream",
     "text": [
      "\u001b[2K   \u001b[90m━━━━━━━━━━━━━━━━━━━━━━━━━━━━━━━━━━━━━━━━\u001b[0m \u001b[32m58.8/58.8 kB\u001b[0m \u001b[31m3.0 MB/s\u001b[0m eta \u001b[36m0:00:00\u001b[0m\n",
      "\u001b[2K   \u001b[90m━━━━━━━━━━━━━━━━━━━━━━━━━━━━━━━━━━━━━━━━\u001b[0m \u001b[32m363.4/363.4 MB\u001b[0m \u001b[31m4.8 MB/s\u001b[0m eta \u001b[36m0:00:00\u001b[0m0:00:01\u001b[0m00:01\u001b[0m\n",
      "\u001b[2K   \u001b[90m━━━━━━━━━━━━━━━━━━━━━━━━━━━━━━━━━━━━━━━━\u001b[0m \u001b[32m664.8/664.8 MB\u001b[0m \u001b[31m2.6 MB/s\u001b[0m eta \u001b[36m0:00:00\u001b[0m0:00:01\u001b[0m00:01\u001b[0m\n",
      "\u001b[2K   \u001b[90m━━━━━━━━━━━━━━━━━━━━━━━━━━━━━━━━━━━━━━━━\u001b[0m \u001b[32m211.5/211.5 MB\u001b[0m \u001b[31m6.8 MB/s\u001b[0m eta \u001b[36m0:00:00\u001b[0m0:00:01\u001b[0m00:01\u001b[0m\n",
      "\u001b[2K   \u001b[90m━━━━━━━━━━━━━━━━━━━━━━━━━━━━━━━━━━━━━━━━\u001b[0m \u001b[32m56.3/56.3 MB\u001b[0m \u001b[31m30.9 MB/s\u001b[0m eta \u001b[36m0:00:00\u001b[0m:00:01\u001b[0m00:01\u001b[0m\n",
      "\u001b[2K   \u001b[90m━━━━━━━━━━━━━━━━━━━━━━━━━━━━━━━━━━━━━━━━\u001b[0m \u001b[32m127.9/127.9 MB\u001b[0m \u001b[31m13.4 MB/s\u001b[0m eta \u001b[36m0:00:00\u001b[0m:00:01\u001b[0m00:01\u001b[0m\n",
      "\u001b[2K   \u001b[90m━━━━━━━━━━━━━━━━━━━━━━━━━━━━━━━━━━━━━━━━\u001b[0m \u001b[32m207.5/207.5 MB\u001b[0m \u001b[31m1.9 MB/s\u001b[0m eta \u001b[36m0:00:00\u001b[0m0:00:01\u001b[0m00:01\u001b[0m\n",
      "\u001b[2K   \u001b[90m━━━━━━━━━━━━━━━━━━━━━━━━━━━━━━━━━━━━━━━━\u001b[0m \u001b[32m21.1/21.1 MB\u001b[0m \u001b[31m81.6 MB/s\u001b[0m eta \u001b[36m0:00:00\u001b[0m:00:01\u001b[0m00:01\u001b[0m\n",
      "\u001b[?25h"
     ]
    }
   ],
   "source": [
    "!pip install -q colpali_engine"
   ]
  },
  {
   "cell_type": "code",
   "execution_count": 3,
   "metadata": {
    "execution": {
     "iopub.execute_input": "2025-05-25T12:09:05.150932Z",
     "iopub.status.busy": "2025-05-25T12:09:05.150660Z",
     "iopub.status.idle": "2025-05-25T12:09:30.594171Z",
     "shell.execute_reply": "2025-05-25T12:09:30.593559Z",
     "shell.execute_reply.started": "2025-05-25T12:09:05.150908Z"
    },
    "trusted": true
   },
   "outputs": [
    {
     "name": "stderr",
     "output_type": "stream",
     "text": [
      "2025-05-25 12:09:18.789005: E external/local_xla/xla/stream_executor/cuda/cuda_fft.cc:477] Unable to register cuFFT factory: Attempting to register factory for plugin cuFFT when one has already been registered\n",
      "WARNING: All log messages before absl::InitializeLog() is called are written to STDERR\n",
      "E0000 00:00:1748174958.993879      35 cuda_dnn.cc:8310] Unable to register cuDNN factory: Attempting to register factory for plugin cuDNN when one has already been registered\n",
      "E0000 00:00:1748174959.049849      35 cuda_blas.cc:1418] Unable to register cuBLAS factory: Attempting to register factory for plugin cuBLAS when one has already been registered\n"
     ]
    }
   ],
   "source": [
    "from colpali_engine.models import ColPali\n",
    "from colpali_engine.models.paligemma.colpali.processing_colpali import ColPaliProcessor\n",
    "from colpali_engine.utils.processing_utils import BaseVisualRetrieverProcessor\n",
    "from colpali_engine.utils.torch_utils import ListDataset,get_torch_device\n",
    "from torch.utils.data import DataLoader\n",
    "\n",
    "import torch\n",
    "from typing import List,cast\n",
    "from tqdm import tqdm\n",
    "from PIL import Image\n",
    "\n",
    "# import spaces\n",
    "import warnings\n",
    "warnings.filterwarnings('ignore')"
   ]
  },
  {
   "cell_type": "markdown",
   "metadata": {},
   "source": [
    "# 2. Initialting the model"
   ]
  },
  {
   "cell_type": "code",
   "execution_count": 4,
   "metadata": {
    "execution": {
     "iopub.execute_input": "2025-05-25T12:09:30.595329Z",
     "iopub.status.busy": "2025-05-25T12:09:30.594847Z",
     "iopub.status.idle": "2025-05-25T12:09:30.599549Z",
     "shell.execute_reply": "2025-05-25T12:09:30.598830Z",
     "shell.execute_reply.started": "2025-05-25T12:09:30.595307Z"
    },
    "trusted": true
   },
   "outputs": [
    {
     "name": "stdout",
     "output_type": "stream",
     "text": [
      "cuda\n"
     ]
    }
   ],
   "source": [
    "model_name='vidore/colpali-v1.2'\n",
    "device=get_torch_device('cuda')\n",
    "print(device)"
   ]
  },
  {
   "cell_type": "code",
   "execution_count": 9,
   "metadata": {
    "execution": {
     "iopub.execute_input": "2025-05-25T12:15:53.803088Z",
     "iopub.status.busy": "2025-05-25T12:15:53.802380Z",
     "iopub.status.idle": "2025-05-25T12:16:00.706478Z",
     "shell.execute_reply": "2025-05-25T12:16:00.705843Z",
     "shell.execute_reply.started": "2025-05-25T12:15:53.803064Z"
    },
    "trusted": true
   },
   "outputs": [
    {
     "data": {
      "application/vnd.jupyter.widget-view+json": {
       "model_id": "6c009f3e117247c68726bcedce8cc85b",
       "version_major": 2,
       "version_minor": 0
      },
      "text/plain": [
       "Fetching 2 files:   0%|          | 0/2 [00:00<?, ?it/s]"
      ]
     },
     "metadata": {},
     "output_type": "display_data"
    },
    {
     "data": {
      "application/vnd.jupyter.widget-view+json": {
       "model_id": "014b3ec710e64b2fbf6c7ef90bdcb17f",
       "version_major": 2,
       "version_minor": 0
      },
      "text/plain": [
       "Loading checkpoint shards:   0%|          | 0/2 [00:00<?, ?it/s]"
      ]
     },
     "metadata": {},
     "output_type": "display_data"
    }
   ],
   "source": [
    "model=ColPali.from_pretrained(\n",
    "    model_name,\n",
    "    torch_dtype=torch.bfloat16,\n",
    "    device_map=device,\n",
    ").eval()\n",
    "\n",
    "processor=cast(ColPaliProcessor,ColPaliProcessor.from_pretrained(model_name))"
   ]
  },
  {
   "cell_type": "markdown",
   "metadata": {},
   "source": [
    "# 3. Converting all the PDF to images and storing to a folder"
   ]
  },
  {
   "cell_type": "code",
   "execution_count": 10,
   "metadata": {
    "execution": {
     "iopub.execute_input": "2025-05-25T12:16:18.165099Z",
     "iopub.status.busy": "2025-05-25T12:16:18.164839Z",
     "iopub.status.idle": "2025-05-25T12:16:31.910936Z",
     "shell.execute_reply": "2025-05-25T12:16:31.909868Z",
     "shell.execute_reply.started": "2025-05-25T12:16:18.165081Z"
    },
    "trusted": true
   },
   "outputs": [
    {
     "name": "stdout",
     "output_type": "stream",
     "text": [
      "Hit:1 http://archive.ubuntu.com/ubuntu jammy InRelease\n",
      "Get:2 http://security.ubuntu.com/ubuntu jammy-security InRelease [129 kB]\n",
      "Get:3 http://archive.ubuntu.com/ubuntu jammy-updates InRelease [128 kB]\n",
      "Get:4 https://cloud.r-project.org/bin/linux/ubuntu jammy-cran40/ InRelease [3,632 B]\n",
      "Get:5 https://developer.download.nvidia.com/compute/cuda/repos/ubuntu2204/x86_64  InRelease [1,581 B]\n",
      "Get:6 http://archive.ubuntu.com/ubuntu jammy-backports InRelease [127 kB]\n",
      "Get:7 https://r2u.stat.illinois.edu/ubuntu jammy InRelease [6,555 B]\n",
      "Hit:8 https://ppa.launchpadcontent.net/deadsnakes/ppa/ubuntu jammy InRelease\n",
      "Get:9 https://developer.download.nvidia.com/compute/cuda/repos/ubuntu2204/x86_64  Packages [1,683 kB]\n",
      "Get:10 https://ppa.launchpadcontent.net/graphics-drivers/ppa/ubuntu jammy InRelease [24.3 kB]\n",
      "Get:11 http://security.ubuntu.com/ubuntu jammy-security/main amd64 Packages [2,944 kB]\n",
      "Get:12 https://ppa.launchpadcontent.net/ubuntugis/ppa/ubuntu jammy InRelease [24.6 kB]\n",
      "Get:13 http://security.ubuntu.com/ubuntu jammy-security/restricted amd64 Packages [4,387 kB]\n",
      "Get:14 http://archive.ubuntu.com/ubuntu jammy-updates/main amd64 Packages [3,255 kB]\n",
      "Get:15 http://security.ubuntu.com/ubuntu jammy-security/universe amd64 Packages [1,245 kB]\n",
      "Get:16 http://archive.ubuntu.com/ubuntu jammy-updates/restricted amd64 Packages [4,540 kB]\n",
      "Get:17 http://archive.ubuntu.com/ubuntu jammy-updates/universe amd64 Packages [1,552 kB]\n",
      "Get:18 http://archive.ubuntu.com/ubuntu jammy-backports/main amd64 Packages [83.2 kB]\n",
      "Get:19 http://archive.ubuntu.com/ubuntu jammy-backports/universe amd64 Packages [35.2 kB]\n",
      "Get:20 https://r2u.stat.illinois.edu/ubuntu jammy/main all Packages [8,968 kB]\n",
      "Get:21 https://r2u.stat.illinois.edu/ubuntu jammy/main amd64 Packages [2,730 kB]\n",
      "Get:22 https://ppa.launchpadcontent.net/graphics-drivers/ppa/ubuntu jammy/main amd64 Packages [46.6 kB]\n",
      "Get:23 https://ppa.launchpadcontent.net/ubuntugis/ppa/ubuntu jammy/main amd64 Packages [75.1 kB]\n",
      "Fetched 32.0 MB in 2s (13.4 MB/s)\n",
      "Reading package lists...\n",
      "W: Skipping acquire of configured file 'main/source/Sources' as repository 'https://r2u.stat.illinois.edu/ubuntu jammy InRelease' does not seem to provide it (sources.list entry misspelt?)\n",
      "Reading package lists...\n",
      "Building dependency tree...\n",
      "Reading state information...\n",
      "The following additional packages will be installed:\n",
      "  libpoppler-dev libpoppler-private-dev libpoppler118\n",
      "The following NEW packages will be installed:\n",
      "  poppler-utils\n",
      "The following packages will be upgraded:\n",
      "  libpoppler-dev libpoppler-private-dev libpoppler118\n",
      "3 upgraded, 1 newly installed, 0 to remove and 145 not upgraded.\n",
      "Need to get 1,462 kB of archives.\n",
      "After this operation, 700 kB of additional disk space will be used.\n",
      "Get:1 http://archive.ubuntu.com/ubuntu jammy-updates/main amd64 libpoppler-private-dev amd64 22.02.0-2ubuntu0.8 [199 kB]\n",
      "Get:2 http://archive.ubuntu.com/ubuntu jammy-updates/main amd64 libpoppler-dev amd64 22.02.0-2ubuntu0.8 [5,186 B]\n",
      "Get:3 http://archive.ubuntu.com/ubuntu jammy-updates/main amd64 libpoppler118 amd64 22.02.0-2ubuntu0.8 [1,072 kB]\n",
      "Get:4 http://archive.ubuntu.com/ubuntu jammy-updates/main amd64 poppler-utils amd64 22.02.0-2ubuntu0.8 [186 kB]\n",
      "Fetched 1,462 kB in 0s (5,846 kB/s)\n",
      "(Reading database ... 129184 files and directories currently installed.)\n",
      "Preparing to unpack .../libpoppler-private-dev_22.02.0-2ubuntu0.8_amd64.deb ...\n",
      "Unpacking libpoppler-private-dev:amd64 (22.02.0-2ubuntu0.8) over (22.02.0-2ubuntu0.6) ...\n",
      "Preparing to unpack .../libpoppler-dev_22.02.0-2ubuntu0.8_amd64.deb ...\n",
      "Unpacking libpoppler-dev:amd64 (22.02.0-2ubuntu0.8) over (22.02.0-2ubuntu0.6) ...\n",
      "Preparing to unpack .../libpoppler118_22.02.0-2ubuntu0.8_amd64.deb ...\n",
      "Unpacking libpoppler118:amd64 (22.02.0-2ubuntu0.8) over (22.02.0-2ubuntu0.6) ...\n",
      "Selecting previously unselected package poppler-utils.\n",
      "Preparing to unpack .../poppler-utils_22.02.0-2ubuntu0.8_amd64.deb ...\n",
      "Unpacking poppler-utils (22.02.0-2ubuntu0.8) ...\n",
      "Setting up libpoppler118:amd64 (22.02.0-2ubuntu0.8) ...\n",
      "Setting up poppler-utils (22.02.0-2ubuntu0.8) ...\n",
      "Setting up libpoppler-dev:amd64 (22.02.0-2ubuntu0.8) ...\n",
      "Setting up libpoppler-private-dev:amd64 (22.02.0-2ubuntu0.8) ...\n",
      "Processing triggers for man-db (2.10.2-1) ...\n",
      "Processing triggers for libc-bin (2.35-0ubuntu3.8) ...\n",
      "/sbin/ldconfig.real: /usr/local/lib/libumf.so.0 is not a symbolic link\n",
      "\n",
      "/sbin/ldconfig.real: /usr/local/lib/libtcm.so.1 is not a symbolic link\n",
      "\n",
      "/sbin/ldconfig.real: /usr/local/lib/libtcm_debug.so.1 is not a symbolic link\n",
      "\n",
      "/sbin/ldconfig.real: /usr/local/lib/libhwloc.so.15 is not a symbolic link\n",
      "\n",
      "/sbin/ldconfig.real: /usr/local/lib/libur_loader.so.0 is not a symbolic link\n",
      "\n",
      "/sbin/ldconfig.real: /usr/local/lib/libur_adapter_level_zero.so.0 is not a symbolic link\n",
      "\n",
      "/sbin/ldconfig.real: /usr/local/lib/libur_adapter_opencl.so.0 is not a symbolic link\n",
      "\n",
      "/sbin/ldconfig.real: /usr/local/lib/libtbbbind_2_5.so.3 is not a symbolic link\n",
      "\n",
      "/sbin/ldconfig.real: /usr/local/lib/libtbbbind.so.3 is not a symbolic link\n",
      "\n",
      "/sbin/ldconfig.real: /usr/local/lib/libtbbbind_2_0.so.3 is not a symbolic link\n",
      "\n",
      "/sbin/ldconfig.real: /usr/local/lib/libtbb.so.12 is not a symbolic link\n",
      "\n",
      "/sbin/ldconfig.real: /usr/local/lib/libtbbmalloc_proxy.so.2 is not a symbolic link\n",
      "\n",
      "/sbin/ldconfig.real: /usr/local/lib/libtbbmalloc.so.2 is not a symbolic link\n",
      "\n"
     ]
    }
   ],
   "source": [
    "!apt-get -q update\n",
    "!apt-get install -yq poppler-utils"
   ]
  },
  {
   "cell_type": "code",
   "execution_count": 11,
   "metadata": {
    "execution": {
     "iopub.execute_input": "2025-05-25T12:16:31.912899Z",
     "iopub.status.busy": "2025-05-25T12:16:31.912615Z",
     "iopub.status.idle": "2025-05-25T12:16:31.930389Z",
     "shell.execute_reply": "2025-05-25T12:16:31.929615Z",
     "shell.execute_reply.started": "2025-05-25T12:16:31.912874Z"
    },
    "trusted": true
   },
   "outputs": [],
   "source": [
    "from pdf2image import convert_from_path\n",
    "from tqdm import tqdm\n",
    "import shutil\n",
    "import os"
   ]
  },
  {
   "cell_type": "markdown",
   "metadata": {},
   "source": [
    "## 3.1 Delete the pdf_images folder if exists and then create a new folder"
   ]
  },
  {
   "cell_type": "code",
   "execution_count": 12,
   "metadata": {
    "execution": {
     "iopub.execute_input": "2025-05-25T12:16:31.931617Z",
     "iopub.status.busy": "2025-05-25T12:16:31.931255Z",
     "iopub.status.idle": "2025-05-25T12:16:31.938782Z",
     "shell.execute_reply": "2025-05-25T12:16:31.938063Z",
     "shell.execute_reply.started": "2025-05-25T12:16:31.931594Z"
    },
    "trusted": true
   },
   "outputs": [
    {
     "name": "stdout",
     "output_type": "stream",
     "text": [
      "Cleaning output folder /kaggle/working/page_images\n"
     ]
    }
   ],
   "source": [
    "output_folder='/kaggle/working/page_images'\n",
    "print(f\"Cleaning output folder {output_folder}\")\n",
    "if os.path.exists(output_folder):\n",
    "    shutil.rmtree(output_folder)\n",
    "os.makedirs(output_folder)"
   ]
  },
  {
   "cell_type": "markdown",
   "metadata": {},
   "source": [
    "## 3.2 Convert all the PDf pages to images and store in pdf_images folder"
   ]
  },
  {
   "cell_type": "code",
   "execution_count": 13,
   "metadata": {
    "execution": {
     "iopub.execute_input": "2025-05-25T12:16:50.208558Z",
     "iopub.status.busy": "2025-05-25T12:16:50.207788Z",
     "iopub.status.idle": "2025-05-25T12:16:50.283722Z",
     "shell.execute_reply": "2025-05-25T12:16:50.282963Z",
     "shell.execute_reply.started": "2025-05-25T12:16:50.208534Z"
    },
    "trusted": true
   },
   "outputs": [
    {
     "data": {
      "text/plain": [
       "299"
      ]
     },
     "execution_count": 13,
     "metadata": {},
     "output_type": "execute_result"
    }
   ],
   "source": [
    "pdf_folder='/kaggle/input/prusa-mks3-5-pdf-data'\n",
    "\n",
    "pdf_files=[file for file in os.listdir(pdf_folder) if file.lower().endswith('.pdf')]\n",
    "len(pdf_files)"
   ]
  },
  {
   "cell_type": "code",
   "execution_count": 14,
   "metadata": {
    "execution": {
     "iopub.execute_input": "2025-05-25T12:16:52.744230Z",
     "iopub.status.busy": "2025-05-25T12:16:52.743937Z",
     "iopub.status.idle": "2025-05-25T12:19:36.597064Z",
     "shell.execute_reply": "2025-05-25T12:19:36.596292Z",
     "shell.execute_reply.started": "2025-05-25T12:16:52.744210Z"
    },
    "trusted": true
   },
   "outputs": [
    {
     "name": "stderr",
     "output_type": "stream",
     "text": [
      "Processing PDF files: 100%|██████████| 299/299 [02:43<00:00,  1.82it/s]\n"
     ]
    }
   ],
   "source": [
    "image_paths=[]\n",
    "for pdf_file in tqdm(pdf_files,desc='Processing PDF files'):\n",
    "    pdf_path=os.path.join(pdf_folder,pdf_file)\n",
    "    pdf_name=os.path.splitext(pdf_file)[0]\n",
    "    pdf_output_folder=os.path.join(output_folder,pdf_name)\n",
    "    os.makedirs(pdf_output_folder,exist_ok=True)\n",
    "    \n",
    "    \n",
    "    try:\n",
    "        images=convert_from_path(pdf_path)\n",
    "        for i,image in enumerate(images):\n",
    "            image_path=os.path.join(pdf_output_folder,f\"page_{i+1}.png\")\n",
    "            image_paths.append(image_path)\n",
    "            image.save(image_path,\"PNG\")\n",
    "    except Exception as e:\n",
    "        print(f\"Failed to convert {pdf_file}:{e}\")"
   ]
  },
  {
   "cell_type": "markdown",
   "metadata": {},
   "source": [
    "# 4. Create the embeddings for the PDF page images"
   ]
  },
  {
   "cell_type": "code",
   "execution_count": 15,
   "metadata": {
    "execution": {
     "iopub.execute_input": "2025-05-25T12:19:36.598708Z",
     "iopub.status.busy": "2025-05-25T12:19:36.598495Z",
     "iopub.status.idle": "2025-05-25T12:19:47.060955Z",
     "shell.execute_reply": "2025-05-25T12:19:47.060176Z",
     "shell.execute_reply.started": "2025-05-25T12:19:36.598693Z"
    },
    "trusted": true
   },
   "outputs": [
    {
     "name": "stdout",
     "output_type": "stream",
     "text": [
      "\u001b[2K   \u001b[90m━━━━━━━━━━━━━━━━━━━━━━━━━━━━━━━━━━━━━━━━\u001b[0m \u001b[32m288.2/288.2 kB\u001b[0m \u001b[31m6.5 MB/s\u001b[0m eta \u001b[36m0:00:00\u001b[0m:00:01\u001b[0m\n",
      "\u001b[2K   \u001b[90m━━━━━━━━━━━━━━━━━━━━━━━━━━━━━━━━━━━━━━━━\u001b[0m \u001b[32m54.2/54.2 MB\u001b[0m \u001b[31m31.2 MB/s\u001b[0m eta \u001b[36m0:00:00\u001b[0m:00:01\u001b[0m00:01\u001b[0m\n",
      "\u001b[2K   \u001b[90m━━━━━━━━━━━━━━━━━━━━━━━━━━━━━━━━━━━━━━━━\u001b[0m \u001b[32m323.1/323.1 kB\u001b[0m \u001b[31m17.8 MB/s\u001b[0m eta \u001b[36m0:00:00\u001b[0m\n",
      "\u001b[2K   \u001b[90m━━━━━━━━━━━━━━━━━━━━━━━━━━━━━━━━━━━━━━━━\u001b[0m \u001b[32m95.2/95.2 kB\u001b[0m \u001b[31m5.7 MB/s\u001b[0m eta \u001b[36m0:00:00\u001b[0m\n",
      "\u001b[2K   \u001b[90m━━━━━━━━━━━━━━━━━━━━━━━━━━━━━━━━━━━━━━━━\u001b[0m \u001b[32m11.5/11.5 MB\u001b[0m \u001b[31m97.0 MB/s\u001b[0m eta \u001b[36m0:00:00\u001b[0m:00:01\u001b[0m0:01\u001b[0m\n",
      "\u001b[2K   \u001b[90m━━━━━━━━━━━━━━━━━━━━━━━━━━━━━━━━━━━━━━━━\u001b[0m \u001b[32m72.0/72.0 kB\u001b[0m \u001b[31m4.6 MB/s\u001b[0m eta \u001b[36m0:00:00\u001b[0m\n",
      "\u001b[2K   \u001b[90m━━━━━━━━━━━━━━━━━━━━━━━━━━━━━━━━━━━━━━━━\u001b[0m \u001b[32m62.5/62.5 kB\u001b[0m \u001b[31m3.7 MB/s\u001b[0m eta \u001b[36m0:00:00\u001b[0m\n",
      "\u001b[?25h"
     ]
    }
   ],
   "source": [
    "!pip -q install spaces"
   ]
  },
  {
   "cell_type": "code",
   "execution_count": 16,
   "metadata": {
    "execution": {
     "iopub.execute_input": "2025-05-25T12:19:47.062248Z",
     "iopub.status.busy": "2025-05-25T12:19:47.061978Z",
     "iopub.status.idle": "2025-05-25T12:19:47.159983Z",
     "shell.execute_reply": "2025-05-25T12:19:47.159208Z",
     "shell.execute_reply.started": "2025-05-25T12:19:47.062211Z"
    },
    "trusted": true
   },
   "outputs": [],
   "source": [
    "import spaces\n",
    "from typing import List\n",
    "from PIL import Image"
   ]
  },
  {
   "cell_type": "code",
   "execution_count": 17,
   "metadata": {
    "execution": {
     "iopub.execute_input": "2025-05-25T12:19:47.162032Z",
     "iopub.status.busy": "2025-05-25T12:19:47.161790Z",
     "iopub.status.idle": "2025-05-25T12:19:47.217165Z",
     "shell.execute_reply": "2025-05-25T12:19:47.216459Z",
     "shell.execute_reply.started": "2025-05-25T12:19:47.162014Z"
    },
    "trusted": true
   },
   "outputs": [
    {
     "data": {
      "text/plain": [
       "458"
      ]
     },
     "execution_count": 17,
     "metadata": {},
     "output_type": "execute_result"
    }
   ],
   "source": [
    "@spaces.GPU\n",
    "def get_images(folder_path: str) -> List[Image.Image]:\n",
    "    images = []\n",
    "    folders = os.listdir(folder_path)\n",
    "    \n",
    "    for folder in folders:\n",
    "        subfolder_path = os.path.join(folder_path, folder)\n",
    "        if os.path.isdir(subfolder_path):\n",
    "            for file in os.listdir(subfolder_path):\n",
    "                file_path = os.path.join(subfolder_path, file)\n",
    "                try:\n",
    "                    img = Image.open(file_path)\n",
    "                    images.append(img)\n",
    "                except Exception as e:\n",
    "                    print(f\"Skipping {file_path}: {e}\")\n",
    "        else:\n",
    "            try:\n",
    "                img = Image.open(subfolder_path)\n",
    "                images.append(img)\n",
    "            except Exception as e:\n",
    "                print(f\"Skipping {subfolder_path}: {e}\")\n",
    "    \n",
    "    return images\n",
    "\n",
    "image_list=get_images('/kaggle/working/page_images')\n",
    "len(image_list)"
   ]
  },
  {
   "cell_type": "code",
   "execution_count": 18,
   "metadata": {
    "execution": {
     "iopub.execute_input": "2025-05-25T12:19:47.218101Z",
     "iopub.status.busy": "2025-05-25T12:19:47.217859Z",
     "iopub.status.idle": "2025-05-25T12:19:47.222590Z",
     "shell.execute_reply": "2025-05-25T12:19:47.222011Z",
     "shell.execute_reply.started": "2025-05-25T12:19:47.218083Z"
    },
    "trusted": true
   },
   "outputs": [],
   "source": [
    "datalaoder=DataLoader(\n",
    "    dataset=ListDataset[str](image_list),\n",
    "    batch_size=10,\n",
    "    shuffle=False,\n",
    "    collate_fn=lambda x:processor.process_images(x),\n",
    ")"
   ]
  },
  {
   "cell_type": "code",
   "execution_count": 19,
   "metadata": {
    "execution": {
     "iopub.execute_input": "2025-05-25T12:19:47.223573Z",
     "iopub.status.busy": "2025-05-25T12:19:47.223361Z",
     "iopub.status.idle": "2025-05-25T12:28:36.127789Z",
     "shell.execute_reply": "2025-05-25T12:28:36.127170Z",
     "shell.execute_reply.started": "2025-05-25T12:19:47.223551Z"
    },
    "trusted": true
   },
   "outputs": [
    {
     "name": "stderr",
     "output_type": "stream",
     "text": [
      "100%|██████████| 46/46 [08:43<00:00, 11.38s/it]\n"
     ]
    }
   ],
   "source": [
    "ds:List[torch.Tensor]=[]\n",
    "for batch_doc in tqdm(datalaoder):\n",
    "    with torch.no_grad():\n",
    "        batch_doc={k:v.to(model.device) for k,v in batch_doc.items()}\n",
    "        embeddings_doc=model(**batch_doc)\n",
    "    ds.extend(list(torch.unbind(embeddings_doc.to(device))))\n",
    "ds_np=[d.float().cpu().numpy() for d in ds]\n"
   ]
  },
  {
   "cell_type": "code",
   "execution_count": 62,
   "metadata": {
    "execution": {
     "iopub.execute_input": "2025-05-25T13:39:14.254365Z",
     "iopub.status.busy": "2025-05-25T13:39:14.254087Z",
     "iopub.status.idle": "2025-05-25T13:39:14.259264Z",
     "shell.execute_reply": "2025-05-25T13:39:14.258453Z",
     "shell.execute_reply.started": "2025-05-25T13:39:14.254345Z"
    },
    "trusted": true
   },
   "outputs": [
    {
     "name": "stdout",
     "output_type": "stream",
     "text": [
      "<class 'list'>\n",
      "<class 'numpy.ndarray'>\n",
      "<class 'numpy.ndarray'>\n",
      "458 1031\n"
     ]
    }
   ],
   "source": [
    "print(type(ds_np))                       # should be <class 'list'>\n",
    "print(type(ds_np[0]))                    # should be <class 'list'>\n",
    "print(type(ds_np[0][0]))                 # should be <class 'float'>\n",
    "print(len(ds_np), len(ds_np[0])) "
   ]
  },
  {
   "cell_type": "code",
   "execution_count": 20,
   "metadata": {
    "execution": {
     "iopub.execute_input": "2025-05-25T12:28:36.128870Z",
     "iopub.status.busy": "2025-05-25T12:28:36.128613Z",
     "iopub.status.idle": "2025-05-25T12:28:36.134458Z",
     "shell.execute_reply": "2025-05-25T12:28:36.133701Z",
     "shell.execute_reply.started": "2025-05-25T12:28:36.128851Z"
    },
    "trusted": true
   },
   "outputs": [
    {
     "name": "stdout",
     "output_type": "stream",
     "text": [
      "Demo embeddings: \n",
      " [array([[ 0.06591797,  0.08935547,  0.20019531, ...,  0.07275391,\n",
      "        -0.16894531, -0.06494141],\n",
      "       [-0.21582031,  0.13378906,  0.09130859, ..., -0.03442383,\n",
      "         0.05712891, -0.10009766],\n",
      "       [-0.10693359,  0.07373047,  0.05834961, ...,  0.01275635,\n",
      "         0.11035156,  0.16503906],\n",
      "       ...,\n",
      "       [ 0.06103516, -0.01452637,  0.12402344, ..., -0.03710938,\n",
      "        -0.07226562,  0.09326172],\n",
      "       [-0.07861328,  0.00491333,  0.08642578, ...,  0.05078125,\n",
      "        -0.09326172,  0.01745605],\n",
      "       [-0.06445312, -0.02380371,  0.12109375, ...,  0.04711914,\n",
      "        -0.11962891, -0.09277344]], dtype=float32)]\n",
      "\n",
      "Print the number of embeddings created:  458\n"
     ]
    }
   ],
   "source": [
    "print(\"Demo embeddings: \\n\",ds_np[:1])\n",
    "print(\"\\nPrint the number of embeddings created: \",len(ds_np))"
   ]
  },
  {
   "cell_type": "markdown",
   "metadata": {},
   "source": [
    "# 5. Initialising Melvus and Create Collection"
   ]
  },
  {
   "cell_type": "code",
   "execution_count": 21,
   "metadata": {
    "execution": {
     "iopub.execute_input": "2025-05-25T12:28:36.135345Z",
     "iopub.status.busy": "2025-05-25T12:28:36.135108Z",
     "iopub.status.idle": "2025-05-25T12:28:43.530232Z",
     "shell.execute_reply": "2025-05-25T12:28:43.529424Z",
     "shell.execute_reply.started": "2025-05-25T12:28:36.135321Z"
    },
    "trusted": true
   },
   "outputs": [
    {
     "name": "stderr",
     "output_type": "stream",
     "text": [
      "huggingface/tokenizers: The current process just got forked, after parallelism has already been used. Disabling parallelism to avoid deadlocks...\n",
      "To disable this warning, you can either:\n",
      "\t- Avoid using `tokenizers` before the fork if possible\n",
      "\t- Explicitly set the environment variable TOKENIZERS_PARALLELISM=(true | false)\n"
     ]
    },
    {
     "name": "stdout",
     "output_type": "stream",
     "text": [
      "\u001b[2K   \u001b[90m━━━━━━━━━━━━━━━━━━━━━━━━━━━━━━━━━━━━━━━━\u001b[0m \u001b[32m227.6/227.6 kB\u001b[0m \u001b[31m5.6 MB/s\u001b[0m eta \u001b[36m0:00:00\u001b[0m00:01\u001b[0m\n",
      "\u001b[2K   \u001b[90m━━━━━━━━━━━━━━━━━━━━━━━━━━━━━━━━━━━━━━━━\u001b[0m \u001b[32m5.9/5.9 MB\u001b[0m \u001b[31m63.5 MB/s\u001b[0m eta \u001b[36m0:00:00\u001b[0m:00:01\u001b[0m0:01\u001b[0m\n",
      "\u001b[2K   \u001b[90m━━━━━━━━━━━━━━━━━━━━━━━━━━━━━━━━━━━━━━━━\u001b[0m \u001b[32m45.2/45.2 MB\u001b[0m \u001b[31m38.3 MB/s\u001b[0m eta \u001b[36m0:00:00\u001b[0m:00:01\u001b[0m00:01\u001b[0m\n",
      "\u001b[?25h"
     ]
    }
   ],
   "source": [
    "!pip install -q pymilvus"
   ]
  },
  {
   "cell_type": "code",
   "execution_count": null,
   "metadata": {
    "execution": {
     "iopub.execute_input": "2025-05-25T14:05:10.519004Z",
     "iopub.status.busy": "2025-05-25T14:05:10.518710Z",
     "iopub.status.idle": "2025-05-25T14:05:12.759112Z",
     "shell.execute_reply": "2025-05-25T14:05:12.758499Z",
     "shell.execute_reply.started": "2025-05-25T14:05:10.518983Z"
    },
    "trusted": true
   },
   "outputs": [
    {
     "name": "stdout",
     "output_type": "stream",
     "text": [
      "Using the exisiting collection.\n",
      "Deleting the old collection...\n",
      "Collection is created annd indexed\n"
     ]
    }
   ],
   "source": [
    "from pymilvus import MilvusClient, DataType\n",
    "\n",
    "from dotenv import load_dotenv\n",
    "\n",
    "load_dotenv()\n",
    "db_token = os.getenv(\"VDB_TOKEN\")\n",
    "uri=os.getenv(\"URI\")\n",
    "collection_name='prusa_printer'\n",
    "milvus_uri=uri\n",
    "create_collection=True\n",
    "vector_dims=128\n",
    "\n",
    "client=MilvusClient(uri=milvus_uri,token=token)\n",
    "if client.has_collection(collection_name=collection_name):\n",
    "    #Load the exisiting collection\n",
    "    client.load_collection(collection_name=collection_name)\n",
    "    print(\"Using the exisiting collection.\")\n",
    "if create_collection:\n",
    "    if client.has_collection(collection_name=collection_name):\n",
    "        #I exisit delete the old schema\n",
    "        client.drop_collection(collection_name=collection_name)\n",
    "        print(\"Deleting the old collection...\")\n",
    "        \n",
    "    #Create a schema   \n",
    "    schema=client.create_schema(auto_id=True,enable_dynamic_fields=True)\n",
    "    schema.add_field(field_name='pk',datatype=DataType.INT64,is_primary=True)\n",
    "    schema.add_field(field_name='vector',datatype=DataType.FLOAT_VECTOR,dim=vector_dims)\n",
    "    schema.add_field(field_name='seq_id',datatype=DataType.INT16)\n",
    "    schema.add_field(field_name='doc_id',datatype=DataType.INT64)\n",
    "    schema.add_field(field_name='doc',datatype=DataType.VARCHAR,max_length=65535)\n",
    "    \n",
    "    #Create the collection using the schema\n",
    "    client.create_collection(collection_name=collection_name,\n",
    "                             schema=schema)\n",
    "\n",
    "    #Create index for vector search\n",
    "    client.release_collection(collection_name=collection_name)\n",
    "    client.drop_index(collection_name=collection_name,\n",
    "                      index_name='vector')\n",
    "    index_params=client.prepare_index_params()\n",
    "    index_params.add_index(\n",
    "        field_name='vector',\n",
    "        index_name='vector_index',\n",
    "        index_type=\"HNSW\",\n",
    "        metric_type=\"IP\",\n",
    "        params={\n",
    "           \"M\":16,\n",
    "            \"efConstruction\":500\n",
    "        },\n",
    "    )\n",
    "    client.create_index(collection_name=collection_name,\n",
    "                        index_params=index_params,\n",
    "                        sync=True)\n",
    "    print(\"Collection is created annd indexed\")"
   ]
  },
  {
   "cell_type": "markdown",
   "metadata": {},
   "source": [
    "# Insert the embeddings in the VectorDB"
   ]
  },
  {
   "cell_type": "code",
   "execution_count": 102,
   "metadata": {
    "execution": {
     "iopub.execute_input": "2025-05-25T14:05:18.511819Z",
     "iopub.status.busy": "2025-05-25T14:05:18.511309Z",
     "iopub.status.idle": "2025-05-25T14:05:18.519629Z",
     "shell.execute_reply": "2025-05-25T14:05:18.518906Z",
     "shell.execute_reply.started": "2025-05-25T14:05:18.511798Z"
    },
    "trusted": true
   },
   "outputs": [
    {
     "data": {
      "text/plain": [
       "[{'colbert_vecs': array([[ 0.06591797,  0.08935547,  0.20019531, ...,  0.07275391,\n",
       "          -0.16894531, -0.06494141],\n",
       "         [-0.21582031,  0.13378906,  0.09130859, ..., -0.03442383,\n",
       "           0.05712891, -0.10009766],\n",
       "         [-0.10693359,  0.07373047,  0.05834961, ...,  0.01275635,\n",
       "           0.11035156,  0.16503906],\n",
       "         ...,\n",
       "         [ 0.06103516, -0.01452637,  0.12402344, ..., -0.03710938,\n",
       "          -0.07226562,  0.09326172],\n",
       "         [-0.07861328,  0.00491333,  0.08642578, ...,  0.05078125,\n",
       "          -0.09326172,  0.01745605],\n",
       "         [-0.06445312, -0.02380371,  0.12109375, ...,  0.04711914,\n",
       "          -0.11962891, -0.09277344]], dtype=float32),\n",
       "  'filepath': '/kaggle/working/page_images/27. Installing the Y-carriage-1/page_1.png',\n",
       "  'doc_id': 0},\n",
       " {'colbert_vecs': array([[-0.11767578,  0.06396484, -0.01489258, ..., -0.05761719,\n",
       "           0.06933594, -0.10449219],\n",
       "         [-0.12792969, -0.1328125 , -0.04003906, ...,  0.08837891,\n",
       "           0.0300293 ,  0.01867676],\n",
       "         [-0.13769531, -0.02661133, -0.05957031, ...,  0.00891113,\n",
       "           0.05981445, -0.08105469],\n",
       "         ...,\n",
       "         [-0.03393555, -0.02441406,  0.10742188, ..., -0.07910156,\n",
       "          -0.12451172,  0.07324219],\n",
       "         [-0.12207031, -0.06933594,  0.05517578, ...,  0.0234375 ,\n",
       "          -0.04589844, -0.00561523],\n",
       "         [-0.09423828, -0.0612793 ,  0.02148438, ...,  0.05639648,\n",
       "          -0.06689453, -0.08984375]], dtype=float32),\n",
       "  'filepath': '/kaggle/working/page_images/33.Assembling the belt-1/page_1.png',\n",
       "  'doc_id': 1},\n",
       " {'colbert_vecs': array([[ 0.03295898,  0.01245117,  0.21972656, ..., -0.03320312,\n",
       "           0.02331543,  0.03686523],\n",
       "         [ 0.00811768,  0.11132812, -0.06103516, ..., -0.01385498,\n",
       "           0.04321289, -0.01538086],\n",
       "         [-0.0145874 ,  0.05297852, -0.11181641, ..., -0.05249023,\n",
       "           0.13964844,  0.01696777],\n",
       "         ...,\n",
       "         [-0.01507568, -0.02319336,  0.11767578, ..., -0.07080078,\n",
       "          -0.07128906,  0.0612793 ],\n",
       "         [-0.11767578, -0.0246582 ,  0.08056641, ...,  0.02490234,\n",
       "          -0.06982422, -0.02587891],\n",
       "         [-0.09570312, -0.06103516,  0.07177734, ...,  0.05200195,\n",
       "          -0.08935547, -0.10498047]], dtype=float32),\n",
       "  'filepath': '/kaggle/working/page_images/7. Assembling the X-axis and smooth rods-2/page_1.png',\n",
       "  'doc_id': 2}]"
      ]
     },
     "execution_count": 102,
     "metadata": {},
     "output_type": "execute_result"
    }
   ],
   "source": [
    "image_data=[]\n",
    "for idx,(vec,path) in enumerate(zip(ds_np,image_paths)):\n",
    "    image_data.append({\n",
    "        \"colbert_vecs\":vec,\n",
    "        \"filepath\":path, #!! Need to be the path for the image\n",
    "        \"doc_id\":idx\n",
    "    })\n",
    "image_data[:3]"
   ]
  },
  {
   "cell_type": "code",
   "execution_count": 103,
   "metadata": {
    "execution": {
     "iopub.execute_input": "2025-05-25T14:05:23.629368Z",
     "iopub.status.busy": "2025-05-25T14:05:23.628791Z",
     "iopub.status.idle": "2025-05-25T14:05:23.635190Z",
     "shell.execute_reply": "2025-05-25T14:05:23.634455Z",
     "shell.execute_reply.started": "2025-05-25T14:05:23.629345Z"
    },
    "trusted": true
   },
   "outputs": [
    {
     "data": {
      "text/plain": [
       "array([-0.06445312, -0.02380371,  0.12109375,  0.04736328, -0.05102539,\n",
       "        0.09228516,  0.08203125, -0.02404785, -0.10595703, -0.08203125,\n",
       "       -0.16601562, -0.13671875, -0.1015625 ,  0.15625   ,  0.10009766,\n",
       "       -0.06933594,  0.10107422, -0.09472656,  0.16308594, -0.1328125 ,\n",
       "       -0.08056641, -0.0378418 , -0.0222168 , -0.14355469,  0.13085938,\n",
       "       -0.00491333,  0.10351562, -0.0546875 ,  0.05273438, -0.05053711,\n",
       "       -0.10693359, -0.01287842, -0.00817871, -0.06982422, -0.02124023,\n",
       "        0.14453125, -0.02832031, -0.11230469, -0.11523438,  0.17089844,\n",
       "       -0.10205078, -0.0324707 ,  0.16210938, -0.09912109, -0.15917969,\n",
       "       -0.06884766,  0.13476562,  0.03417969, -0.05151367,  0.01916504,\n",
       "       -0.08349609, -0.06640625,  0.06152344,  0.10302734, -0.04296875,\n",
       "       -0.05444336,  0.0378418 ,  0.06298828, -0.15527344,  0.08251953,\n",
       "        0.06835938, -0.02966309, -0.12451172, -0.11279297, -0.13671875,\n",
       "        0.06152344,  0.03149414,  0.01239014,  0.10205078, -0.19238281,\n",
       "        0.04370117, -0.08544922,  0.07177734, -0.00958252,  0.13574219,\n",
       "       -0.08935547,  0.01916504, -0.0456543 ,  0.05444336,  0.0279541 ,\n",
       "       -0.04248047,  0.00921631,  0.02380371, -0.0279541 , -0.00650024,\n",
       "        0.03979492,  0.00253296,  0.14746094, -0.10791016, -0.01202393,\n",
       "        0.06054688,  0.19628906,  0.13867188, -0.02929688, -0.18945312,\n",
       "       -0.08496094, -0.0859375 , -0.07861328, -0.03881836,  0.12890625,\n",
       "       -0.01483154,  0.04394531, -0.03369141, -0.05493164, -0.06445312,\n",
       "       -0.04980469,  0.02941895, -0.01611328, -0.07910156, -0.07470703,\n",
       "        0.04467773, -0.07470703,  0.12890625, -0.00787354, -0.08544922,\n",
       "        0.00982666,  0.01550293,  0.05053711, -0.07226562, -0.02539062,\n",
       "       -0.03149414,  0.15527344,  0.03442383, -0.08984375, -0.01092529,\n",
       "        0.04711914, -0.11962891, -0.09277344], dtype=float32)"
      ]
     },
     "execution_count": 103,
     "metadata": {},
     "output_type": "execute_result"
    }
   ],
   "source": [
    "eg1=image_data[0]\n",
    "seq1=eg1['colbert_vecs'][0]\n",
    "seq_last=eg1['colbert_vecs'][1030]\n",
    "seq_last"
   ]
  },
  {
   "cell_type": "code",
   "execution_count": 104,
   "metadata": {
    "execution": {
     "iopub.execute_input": "2025-05-25T14:05:27.009866Z",
     "iopub.status.busy": "2025-05-25T14:05:27.009152Z",
     "iopub.status.idle": "2025-05-25T14:07:38.707422Z",
     "shell.execute_reply": "2025-05-25T14:07:38.706640Z",
     "shell.execute_reply.started": "2025-05-25T14:05:27.009841Z"
    },
    "trusted": true
   },
   "outputs": [
    {
     "name": "stdout",
     "output_type": "stream",
     "text": [
      "All Data inserted successfully\n"
     ]
    }
   ],
   "source": [
    "for data in image_data:\n",
    "    colbert_vecs=data['colbert_vecs']\n",
    "    if isinstance(colbert_vecs, np.ndarray) and len(colbert_vecs.shape) == 2:\n",
    "        colbert_vecs = colbert_vecs.tolist()\n",
    "    seq_length=len(colbert_vecs)\n",
    "    seq_ids=list(range(seq_length))\n",
    "    docs_ids = [data[\"doc_id\"]] * seq_length\n",
    "    docs = [data[\"filepath\"]] * seq_length\n",
    "\n",
    "    records=[{\n",
    "        \"vector\":colbert_vecs[i],\n",
    "        \"seq_id\":seq_ids[i],\n",
    "        \"doc_id\":docs_ids[i],\n",
    "        \"doc\":docs[i]\n",
    "    }for i in range(seq_length)]\n",
    "    # for rec in records:\n",
    "    #     print(f\"seq_id: {rec.get('seq_id')}\")\n",
    "    #     print(f\"doc_id: {rec.get('doc_id')}\")\n",
    "    #     print(f\"doc: {rec.get('doc')}\")\n",
    "    #     print(\"-\" * 40)\n",
    "    client.insert(collection_name=collection_name,data=records)\n",
    "print(\"All Data inserted successfully\")"
   ]
  },
  {
   "cell_type": "markdown",
   "metadata": {},
   "source": [
    "# Search for the query "
   ]
  },
  {
   "cell_type": "code",
   "execution_count": 123,
   "metadata": {
    "execution": {
     "iopub.execute_input": "2025-05-25T14:20:25.629693Z",
     "iopub.status.busy": "2025-05-25T14:20:25.629403Z",
     "iopub.status.idle": "2025-05-25T14:20:25.638897Z",
     "shell.execute_reply": "2025-05-25T14:20:25.638110Z",
     "shell.execute_reply.started": "2025-05-25T14:20:25.629672Z"
    },
    "trusted": true
   },
   "outputs": [],
   "source": [
    "import numpy as np\n",
    "import concurrent.futures\n",
    "\n",
    "@spaces.GPU\n",
    "def search_and_rerank(query_vectors: np.ndarray, topk: int = 5):\n",
    "    query_vectors = np.atleast_2d(query_vectors)\n",
    "    search_params = {\"metric_type\": \"IP\", \"params\": {}}\n",
    "    print(\"searching...\")\n",
    "\n",
    "    # Step 1: Search top 50 vectors in Milvus\n",
    "    results = client.search(\n",
    "        collection_name=collection_name,\n",
    "        data=query_vectors.tolist(),\n",
    "        anns_field=\"vector\",  # specify the field where vector is stored\n",
    "        search_param=search_params,\n",
    "        limit=50,\n",
    "        output_fields=[\"vector\", \"seq_id\", \"doc_id\", \"doc\"],\n",
    "    )\n",
    "\n",
    "    # Step 2: Get unique doc_ids from the results\n",
    "    doc_ids = {hit.entity.get(\"doc_id\") for hits in results for hit in hits}\n",
    "\n",
    "    print(f\"Found {len(doc_ids)} unique docs. Reranking...\")\n",
    "\n",
    "    # Step 3: Rerank using full doc vectors\n",
    "    def rerank_single_doc(doc_id):\n",
    "        doc_colbert_vecs = client.query(\n",
    "            collection_name=collection_name,\n",
    "            filter=f\"doc_id == {doc_id}\",\n",
    "            output_fields=[\"seq_id\", \"vector\", \"doc\"],\n",
    "            limit=1000,  # adjust as needed\n",
    "        )\n",
    "        if not doc_colbert_vecs:\n",
    "            return (0.0, doc_id)\n",
    "\n",
    "        doc_vecs = np.vstack([rec[\"vector\"] for rec in doc_colbert_vecs])\n",
    "        score = np.dot(query_vectors, doc_vecs.T).max(1).sum()\n",
    "        return (score, doc_id)\n",
    "\n",
    "    scores = []\n",
    "    max_workers = min(8, len(doc_ids))\n",
    "    with concurrent.futures.ThreadPoolExecutor(max_workers=max_workers) as executor:\n",
    "        futures = {executor.submit(rerank_single_doc, doc_id): doc_id for doc_id in doc_ids}\n",
    "        for future in concurrent.futures.as_completed(futures):\n",
    "            scores.append(future.result())\n",
    "\n",
    "    # Step 4: Sort and return top-k doc_ids with scores\n",
    "    scores.sort(key=lambda x: x[0], reverse=True)\n",
    "    print(\"returning top results...\")\n",
    "    \n",
    "    top_docs = []\n",
    "    for score, doc_id in scores[:topk]:\n",
    "        doc_info = client.query(\n",
    "            collection_name=collection_name,\n",
    "            filter=f\"doc_id == {doc_id}\",\n",
    "            output_fields=[\"doc\", \"doc_id\", \"seq_id\"],\n",
    "            limit=1\n",
    "        )\n",
    "        if doc_info:\n",
    "            doc = doc_info[0]\n",
    "            doc[\"score\"] = float(score)  # convert numpy float to Python float\n",
    "            top_docs.append(doc)\n",
    "    \n",
    "    return top_docs\n"
   ]
  },
  {
   "cell_type": "code",
   "execution_count": 126,
   "metadata": {
    "execution": {
     "iopub.execute_input": "2025-05-25T14:22:10.229615Z",
     "iopub.status.busy": "2025-05-25T14:22:10.229074Z",
     "iopub.status.idle": "2025-05-25T14:22:13.193368Z",
     "shell.execute_reply": "2025-05-25T14:22:13.192785Z",
     "shell.execute_reply.started": "2025-05-25T14:22:10.229590Z"
    },
    "trusted": true
   },
   "outputs": [
    {
     "name": "stdout",
     "output_type": "stream",
     "text": [
      "searching...\n",
      "Found 10 unique docs. Reranking...\n",
      "returning top results...\n"
     ]
    },
    {
     "data": {
      "text/plain": [
       "[{'doc_id': 0,\n",
       "  'seq_id': 0,\n",
       "  'doc': '/kaggle/working/page_images/27. Installing the Y-carriage-1/page_1.png',\n",
       "  'pk': 458038125061606269,\n",
       "  'score': 1.0035150051116943},\n",
       " {'doc': '/kaggle/working/page_images/GIPO - Canon EOS R8 - 2.5mm/page_3.png',\n",
       "  'doc_id': 10,\n",
       "  'seq_id': 0,\n",
       "  'pk': 458038125061472277,\n",
       "  'score': 0.8761975169181824},\n",
       " {'doc': '/kaggle/working/page_images/11. Assembling the X-axis motor pulley (part 2)-1/page_1.png',\n",
       "  'doc_id': 6,\n",
       "  'seq_id': 0,\n",
       "  'pk': 458038125061609371,\n",
       "  'score': 0.8564610481262207},\n",
       " {'doc': '/kaggle/working/page_images/GIPO - Canon EOS R8 - 2.5mm/page_2.png',\n",
       "  'doc_id': 9,\n",
       "  'seq_id': 0,\n",
       "  'pk': 458038125061611438,\n",
       "  'score': 0.83110511302948},\n",
       " {'seq_id': 0,\n",
       "  'doc': '/kaggle/working/page_images/7. Assembling the X-axis and smooth rods-2/page_1.png',\n",
       "  'doc_id': 2,\n",
       "  'pk': 458038125061607304,\n",
       "  'score': 0.8239629864692688}]"
      ]
     },
     "execution_count": 126,
     "metadata": {},
     "output_type": "execute_result"
    }
   ],
   "source": [
    "top_docs=search_and_rerank(seq1,topk=5)\n",
    "top_docs"
   ]
  },
  {
   "cell_type": "markdown",
   "metadata": {},
   "source": [
    "# Convert user query to vectors"
   ]
  },
  {
   "cell_type": "code",
   "execution_count": 136,
   "metadata": {
    "execution": {
     "iopub.execute_input": "2025-05-25T14:30:15.989702Z",
     "iopub.status.busy": "2025-05-25T14:30:15.989403Z",
     "iopub.status.idle": "2025-05-25T14:30:15.994137Z",
     "shell.execute_reply": "2025-05-25T14:30:15.993404Z",
     "shell.execute_reply.started": "2025-05-25T14:30:15.989678Z"
    },
    "trusted": true
   },
   "outputs": [],
   "source": [
    "texts='What all can be done using GPIO board?'\n",
    "dataloader=DataLoader(\n",
    "    dataset=ListDataset[str](texts),\n",
    "    batch_size=1,\n",
    "    shuffle=False,\n",
    "    collate_fn=lambda x:processor.process_queries(x),\n",
    ")"
   ]
  },
  {
   "cell_type": "code",
   "execution_count": null,
   "metadata": {
    "trusted": true
   },
   "outputs": [],
   "source": [
    "qs:List[torch.Tensor]=[]\n",
    "for batch_query in dataloader:\n",
    "    with torch.no_grad():\n",
    "        batch_query={k:v.to(model.device) for k,v in batch_query.items()}\n",
    "        embeddings_query=model(**batch_query)\n",
    "    qs.extend(list(torch.unbind(embeddings_query.to(device))))\n",
    "qs_np=[q.float().cpu().numpy() for q in qs]\n",
    "qs_np[0]"
   ]
  },
  {
   "cell_type": "markdown",
   "metadata": {},
   "source": [
    "# GEMINI model call and output"
   ]
  },
  {
   "cell_type": "code",
   "execution_count": 133,
   "metadata": {
    "execution": {
     "iopub.execute_input": "2025-05-25T14:27:34.808812Z",
     "iopub.status.busy": "2025-05-25T14:27:34.808473Z",
     "iopub.status.idle": "2025-05-25T14:27:34.813568Z",
     "shell.execute_reply": "2025-05-25T14:27:34.813046Z",
     "shell.execute_reply.started": "2025-05-25T14:27:34.808793Z"
    },
    "trusted": true
   },
   "outputs": [
    {
     "data": {
      "text/plain": [
       "['/kaggle/working/page_images/27. Installing the Y-carriage-1/page_1.png',\n",
       " '/kaggle/working/page_images/GIPO - Canon EOS R8 - 2.5mm/page_3.png',\n",
       " '/kaggle/working/page_images/11. Assembling the X-axis motor pulley (part 2)-1/page_1.png',\n",
       " '/kaggle/working/page_images/GIPO - Canon EOS R8 - 2.5mm/page_2.png',\n",
       " '/kaggle/working/page_images/7. Assembling the X-axis and smooth rods-2/page_1.png']"
      ]
     },
     "execution_count": 133,
     "metadata": {},
     "output_type": "execute_result"
    }
   ],
   "source": [
    "result_image_paths=[image['doc'] for image in top_docs]\n",
    "result_image_paths"
   ]
  },
  {
   "cell_type": "code",
   "execution_count": null,
   "metadata": {
    "execution": {
     "iopub.execute_input": "2025-05-25T14:31:15.549781Z",
     "iopub.status.busy": "2025-05-25T14:31:15.549095Z",
     "iopub.status.idle": "2025-05-25T14:31:17.480899Z",
     "shell.execute_reply": "2025-05-25T14:31:17.480237Z",
     "shell.execute_reply.started": "2025-05-25T14:31:15.549759Z"
    },
    "trusted": true
   },
   "outputs": [
    {
     "name": "stdout",
     "output_type": "stream",
     "text": [
      "Based on the provided text, the GPIO board can be used to control an output pin to trigger a cellphone camera to take stop-motion pictures.  One example shows using it to send a signal to a camera to start and stop recording.  Essentially, it allows for external devices to be controlled by the 3D printer's controller.\n",
      "\n"
     ]
    }
   ],
   "source": [
    "import google.generativeai as genai\n",
    "google_token = os.getenv(\"GOOGLE_API\")\n",
    "genai.configure(api_key=google_token)\n",
    "gen_model=genai.GenerativeModel('gemini-1.5-flash')\n",
    "images=[Image.open(path) for path in result_image_paths]\n",
    "\n",
    "chat=gen_model.start_chat()\n",
    "response=chat.send_message([*images,texts])\n",
    "answer=response.text\n",
    "print(answer)"
   ]
  },
  {
   "cell_type": "code",
   "execution_count": null,
   "metadata": {
    "trusted": true
   },
   "outputs": [],
   "source": []
  }
 ],
 "metadata": {
  "kaggle": {
   "accelerator": "gpu",
   "dataSources": [
    {
     "datasetId": 7267125,
     "sourceId": 11589465,
     "sourceType": "datasetVersion"
    }
   ],
   "isGpuEnabled": true,
   "isInternetEnabled": true,
   "language": "python",
   "sourceType": "notebook"
  },
  "kernelspec": {
   "display_name": "Python 3",
   "language": "python",
   "name": "python3"
  },
  "language_info": {
   "codemirror_mode": {
    "name": "ipython",
    "version": 3
   },
   "file_extension": ".py",
   "mimetype": "text/x-python",
   "name": "python",
   "nbconvert_exporter": "python",
   "pygments_lexer": "ipython3",
   "version": "3.11.11"
  }
 },
 "nbformat": 4,
 "nbformat_minor": 4
}
