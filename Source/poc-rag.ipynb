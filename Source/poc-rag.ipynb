{
 "cells": [
  {
   "cell_type": "code",
   "execution_count": 1,
   "metadata": {
    "_cell_guid": "b1076dfc-b9ad-4769-8c92-a6c4dae69d19",
    "_uuid": "8f2839f25d086af736a60e9eeb907d3b93b6e0e5",
    "execution": {
     "iopub.execute_input": "2025-05-18T10:54:14.475895Z",
     "iopub.status.busy": "2025-05-18T10:54:14.475656Z",
     "iopub.status.idle": "2025-05-18T10:54:14.751066Z",
     "shell.execute_reply": "2025-05-18T10:54:14.750279Z",
     "shell.execute_reply.started": "2025-05-18T10:54:14.475869Z"
    },
    "trusted": true
   },
   "outputs": [],
   "source": [
    "# This Python 3 environment comes with many helpful analytics libraries installed\n",
    "# It is defined by the kaggle/python Docker image: https://github.com/kaggle/docker-python\n",
    "# For example, here's several helpful packages to load\n",
    "\n",
    "import numpy as np # linear algebra\n",
    "import pandas as pd # data processing, CSV file I/O (e.g. pd.read_csv)\n",
    "\n",
    "# Input data files are available in the read-only \"../input/\" directory\n",
    "# For example, running this (by clicking run or pressing Shift+Enter) will list all files under the input directory\n",
    "\n",
    "# import os\n",
    "# for dirname, _, filenames in os.walk('/kaggle/input'):\n",
    "#     for filename in filenames:\n",
    "#         print(os.path.join(dirname, filename))\n",
    "\n",
    "# You can write up to 20GB to the current directory (/kaggle/working/) that gets preserved as output when you create a version using \"Save & Run All\" \n",
    "# You can also write temporary files to /kaggle/temp/, but they won't be saved outside of the current session"
   ]
  },
  {
   "cell_type": "markdown",
   "metadata": {},
   "source": [
    "# 1. Importing the necessary libraries for Colpali"
   ]
  },
  {
   "cell_type": "code",
   "execution_count": 2,
   "metadata": {
    "execution": {
     "iopub.execute_input": "2025-05-18T10:54:14.753209Z",
     "iopub.status.busy": "2025-05-18T10:54:14.752920Z",
     "iopub.status.idle": "2025-05-18T10:55:22.759782Z",
     "shell.execute_reply": "2025-05-18T10:55:22.758892Z",
     "shell.execute_reply.started": "2025-05-18T10:54:14.753191Z"
    },
    "trusted": true
   },
   "outputs": [
    {
     "name": "stdout",
     "output_type": "stream",
     "text": [
      "\u001b[2K   \u001b[90m━━━━━━━━━━━━━━━━━━━━━━━━━━━━━━━━━━━━━━━━\u001b[0m \u001b[32m58.8/58.8 kB\u001b[0m \u001b[31m4.4 MB/s\u001b[0m eta \u001b[36m0:00:00\u001b[0m\n",
      "\u001b[2K   \u001b[90m━━━━━━━━━━━━━━━━━━━━━━━━━━━━━━━━━━━━━━━━\u001b[0m \u001b[32m363.4/363.4 MB\u001b[0m \u001b[31m4.7 MB/s\u001b[0m eta \u001b[36m0:00:00\u001b[0m0:00:01\u001b[0m00:01\u001b[0m\n",
      "\u001b[2K   \u001b[90m━━━━━━━━━━━━━━━━━━━━━━━━━━━━━━━━━━━━━━━━\u001b[0m \u001b[32m664.8/664.8 MB\u001b[0m \u001b[31m2.6 MB/s\u001b[0m eta \u001b[36m0:00:00\u001b[0m0:00:01\u001b[0m00:01\u001b[0m\n",
      "\u001b[2K   \u001b[90m━━━━━━━━━━━━━━━━━━━━━━━━━━━━━━━━━━━━━━━━\u001b[0m \u001b[32m211.5/211.5 MB\u001b[0m \u001b[31m7.8 MB/s\u001b[0m eta \u001b[36m0:00:00\u001b[0m0:00:01\u001b[0m00:01\u001b[0m\n",
      "\u001b[2K   \u001b[90m━━━━━━━━━━━━━━━━━━━━━━━━━━━━━━━━━━━━━━━━\u001b[0m \u001b[32m56.3/56.3 MB\u001b[0m \u001b[31m15.5 MB/s\u001b[0m eta \u001b[36m0:00:00\u001b[0m:00:01\u001b[0m00:01\u001b[0m\n",
      "\u001b[2K   \u001b[90m━━━━━━━━━━━━━━━━━━━━━━━━━━━━━━━━━━━━━━━━\u001b[0m \u001b[32m127.9/127.9 MB\u001b[0m \u001b[31m13.0 MB/s\u001b[0m eta \u001b[36m0:00:00\u001b[0m:00:01\u001b[0m00:01\u001b[0m\n",
      "\u001b[2K   \u001b[90m━━━━━━━━━━━━━━━━━━━━━━━━━━━━━━━━━━━━━━━━\u001b[0m \u001b[32m207.5/207.5 MB\u001b[0m \u001b[31m8.2 MB/s\u001b[0m eta \u001b[36m0:00:00\u001b[0m0:00:01\u001b[0m00:01\u001b[0m\n",
      "\u001b[2K   \u001b[90m━━━━━━━━━━━━━━━━━━━━━━━━━━━━━━━━━━━━━━━━\u001b[0m \u001b[32m21.1/21.1 MB\u001b[0m \u001b[31m73.1 MB/s\u001b[0m eta \u001b[36m0:00:00\u001b[0m:00:01\u001b[0m00:01\u001b[0m\n",
      "\u001b[?25h"
     ]
    }
   ],
   "source": [
    "!pip install -q colpali_engine"
   ]
  },
  {
   "cell_type": "code",
   "execution_count": 3,
   "metadata": {
    "execution": {
     "iopub.execute_input": "2025-05-18T10:55:22.761275Z",
     "iopub.status.busy": "2025-05-18T10:55:22.760899Z",
     "iopub.status.idle": "2025-05-18T10:55:46.787489Z",
     "shell.execute_reply": "2025-05-18T10:55:46.786955Z",
     "shell.execute_reply.started": "2025-05-18T10:55:22.761246Z"
    },
    "trusted": true
   },
   "outputs": [
    {
     "name": "stderr",
     "output_type": "stream",
     "text": [
      "2025-05-18 10:55:35.566873: E external/local_xla/xla/stream_executor/cuda/cuda_fft.cc:477] Unable to register cuFFT factory: Attempting to register factory for plugin cuFFT when one has already been registered\n",
      "WARNING: All log messages before absl::InitializeLog() is called are written to STDERR\n",
      "E0000 00:00:1747565735.744587      35 cuda_dnn.cc:8310] Unable to register cuDNN factory: Attempting to register factory for plugin cuDNN when one has already been registered\n",
      "E0000 00:00:1747565735.797063      35 cuda_blas.cc:1418] Unable to register cuBLAS factory: Attempting to register factory for plugin cuBLAS when one has already been registered\n"
     ]
    }
   ],
   "source": [
    "from colpali_engine.models import ColPali\n",
    "from colpali_engine.models.paligemma.colpali.processing_colpali import ColPaliProcessor\n",
    "from colpali_engine.utils.processing_utils import BaseVisualRetrieverProcessor\n",
    "from colpali_engine.utils.torch_utils import ListDataset,get_torch_device\n",
    "from torch.utils.data import DataLoader\n",
    "\n",
    "import torch\n",
    "from typing import List,cast\n",
    "from tqdm import tqdm\n",
    "from PIL import Image\n",
    "\n",
    "# import spaces\n",
    "import warnings\n",
    "warnings.filterwarnings('ignore')"
   ]
  },
  {
   "cell_type": "markdown",
   "metadata": {},
   "source": [
    "# 2. Initialting the model"
   ]
  },
  {
   "cell_type": "code",
   "execution_count": 4,
   "metadata": {
    "execution": {
     "iopub.execute_input": "2025-05-18T10:55:46.788736Z",
     "iopub.status.busy": "2025-05-18T10:55:46.788223Z",
     "iopub.status.idle": "2025-05-18T10:55:46.793076Z",
     "shell.execute_reply": "2025-05-18T10:55:46.792385Z",
     "shell.execute_reply.started": "2025-05-18T10:55:46.788714Z"
    },
    "trusted": true
   },
   "outputs": [
    {
     "name": "stdout",
     "output_type": "stream",
     "text": [
      "cuda\n"
     ]
    }
   ],
   "source": [
    "model_name='vidore/colpali-v1.2'\n",
    "device=get_torch_device('cuda')\n",
    "print(device)"
   ]
  },
  {
   "cell_type": "code",
   "execution_count": 5,
   "metadata": {
    "execution": {
     "iopub.execute_input": "2025-05-18T10:55:46.794338Z",
     "iopub.status.busy": "2025-05-18T10:55:46.793873Z",
     "iopub.status.idle": "2025-05-18T10:56:39.047933Z",
     "shell.execute_reply": "2025-05-18T10:56:39.047324Z",
     "shell.execute_reply.started": "2025-05-18T10:55:46.794314Z"
    },
    "trusted": true
   },
   "outputs": [
    {
     "data": {
      "application/vnd.jupyter.widget-view+json": {
       "model_id": "2793d53ead95462e98e474ba3c6369be",
       "version_major": 2,
       "version_minor": 0
      },
      "text/plain": [
       "adapter_config.json:   0%|          | 0.00/750 [00:00<?, ?B/s]"
      ]
     },
     "metadata": {},
     "output_type": "display_data"
    },
    {
     "data": {
      "application/vnd.jupyter.widget-view+json": {
       "model_id": "003a049fd7f340c4868b56f997f9a1c7",
       "version_major": 2,
       "version_minor": 0
      },
      "text/plain": [
       "config.json:   0%|          | 0.00/1.01k [00:00<?, ?B/s]"
      ]
     },
     "metadata": {},
     "output_type": "display_data"
    },
    {
     "data": {
      "application/vnd.jupyter.widget-view+json": {
       "model_id": "964c9c736fe6417ba32f3f80be2591f9",
       "version_major": 2,
       "version_minor": 0
      },
      "text/plain": [
       "model.safetensors.index.json:   0%|          | 0.00/66.3k [00:00<?, ?B/s]"
      ]
     },
     "metadata": {},
     "output_type": "display_data"
    },
    {
     "data": {
      "application/vnd.jupyter.widget-view+json": {
       "model_id": "fe43613b7f3b4712974809402ace5105",
       "version_major": 2,
       "version_minor": 0
      },
      "text/plain": [
       "Fetching 2 files:   0%|          | 0/2 [00:00<?, ?it/s]"
      ]
     },
     "metadata": {},
     "output_type": "display_data"
    },
    {
     "data": {
      "application/vnd.jupyter.widget-view+json": {
       "model_id": "3bd97b4837154d569ac75c3b01cbdde2",
       "version_major": 2,
       "version_minor": 0
      },
      "text/plain": [
       "model-00001-of-00002.safetensors:   0%|          | 0.00/4.99G [00:00<?, ?B/s]"
      ]
     },
     "metadata": {},
     "output_type": "display_data"
    },
    {
     "data": {
      "application/vnd.jupyter.widget-view+json": {
       "model_id": "6ab46f91b6db4bdab6ff648119546988",
       "version_major": 2,
       "version_minor": 0
      },
      "text/plain": [
       "model-00002-of-00002.safetensors:   0%|          | 0.00/862M [00:00<?, ?B/s]"
      ]
     },
     "metadata": {},
     "output_type": "display_data"
    },
    {
     "data": {
      "application/vnd.jupyter.widget-view+json": {
       "model_id": "1437c656de8241c4837ac7fb2033638f",
       "version_major": 2,
       "version_minor": 0
      },
      "text/plain": [
       "Loading checkpoint shards:   0%|          | 0/2 [00:00<?, ?it/s]"
      ]
     },
     "metadata": {},
     "output_type": "display_data"
    },
    {
     "data": {
      "application/vnd.jupyter.widget-view+json": {
       "model_id": "377d37b3a3d94295840b541b3fb26908",
       "version_major": 2,
       "version_minor": 0
      },
      "text/plain": [
       "adapter_model.safetensors:   0%|          | 0.00/78.6M [00:00<?, ?B/s]"
      ]
     },
     "metadata": {},
     "output_type": "display_data"
    },
    {
     "name": "stderr",
     "output_type": "stream",
     "text": [
      "Using a slow image processor as `use_fast` is unset and a slow processor was saved with this model. `use_fast=True` will be the default behavior in v4.52, even if the model was saved with a slow processor. This will result in minor differences in outputs. You'll still be able to use a slow processor with `use_fast=False`.\n"
     ]
    },
    {
     "data": {
      "application/vnd.jupyter.widget-view+json": {
       "model_id": "1ee091aab9f94c429532909df598b5a1",
       "version_major": 2,
       "version_minor": 0
      },
      "text/plain": [
       "preprocessor_config.json:   0%|          | 0.00/700 [00:00<?, ?B/s]"
      ]
     },
     "metadata": {},
     "output_type": "display_data"
    },
    {
     "data": {
      "application/vnd.jupyter.widget-view+json": {
       "model_id": "deb3fcef98cf4f3693cbdeeada32873c",
       "version_major": 2,
       "version_minor": 0
      },
      "text/plain": [
       "tokenizer_config.json:   0%|          | 0.00/243k [00:00<?, ?B/s]"
      ]
     },
     "metadata": {},
     "output_type": "display_data"
    },
    {
     "data": {
      "application/vnd.jupyter.widget-view+json": {
       "model_id": "f89e5abbf7354ed7bf7ee709ab0b8b6e",
       "version_major": 2,
       "version_minor": 0
      },
      "text/plain": [
       "tokenizer.json:   0%|          | 0.00/17.8M [00:00<?, ?B/s]"
      ]
     },
     "metadata": {},
     "output_type": "display_data"
    },
    {
     "data": {
      "application/vnd.jupyter.widget-view+json": {
       "model_id": "7f7244c34e1d435880a3d3618846e6f0",
       "version_major": 2,
       "version_minor": 0
      },
      "text/plain": [
       "special_tokens_map.json:   0%|          | 0.00/733 [00:00<?, ?B/s]"
      ]
     },
     "metadata": {},
     "output_type": "display_data"
    }
   ],
   "source": [
    "model=ColPali.from_pretrained(\n",
    "    model_name,\n",
    "    torch_dtype=torch.bfloat16,\n",
    "    device_map=device\n",
    ").eval()\n",
    "\n",
    "processor=cast(ColPaliProcessor,ColPaliProcessor.from_pretrained(model_name))"
   ]
  },
  {
   "cell_type": "markdown",
   "metadata": {},
   "source": [
    "# 3. Converting all the PDF to images and storing to a folder"
   ]
  },
  {
   "cell_type": "code",
   "execution_count": 6,
   "metadata": {
    "execution": {
     "iopub.execute_input": "2025-05-18T10:56:39.048959Z",
     "iopub.status.busy": "2025-05-18T10:56:39.048711Z",
     "iopub.status.idle": "2025-05-18T10:56:59.667580Z",
     "shell.execute_reply": "2025-05-18T10:56:59.666785Z",
     "shell.execute_reply.started": "2025-05-18T10:56:39.048941Z"
    },
    "trusted": true
   },
   "outputs": [
    {
     "name": "stdout",
     "output_type": "stream",
     "text": [
      "Get:1 https://cloud.r-project.org/bin/linux/ubuntu jammy-cran40/ InRelease [3,632 B]\n",
      "Get:2 https://developer.download.nvidia.com/compute/cuda/repos/ubuntu2204/x86_64  InRelease [1,581 B]\n",
      "Hit:3 http://archive.ubuntu.com/ubuntu jammy InRelease\n",
      "Get:4 https://r2u.stat.illinois.edu/ubuntu jammy InRelease [6,555 B]\n",
      "Get:5 http://archive.ubuntu.com/ubuntu jammy-updates InRelease [128 kB]\n",
      "Get:6 http://archive.ubuntu.com/ubuntu jammy-backports InRelease [127 kB]\n",
      "Get:7 http://security.ubuntu.com/ubuntu jammy-security InRelease [129 kB]\n",
      "Hit:8 https://ppa.launchpadcontent.net/deadsnakes/ppa/ubuntu jammy InRelease\n",
      "Hit:9 https://ppa.launchpadcontent.net/graphics-drivers/ppa/ubuntu jammy InRelease\n",
      "Get:10 https://ppa.launchpadcontent.net/ubuntugis/ppa/ubuntu jammy InRelease [24.6 kB]\n",
      "Get:11 https://developer.download.nvidia.com/compute/cuda/repos/ubuntu2204/x86_64  Packages [1,683 kB]\n",
      "Get:12 https://r2u.stat.illinois.edu/ubuntu jammy/main all Packages [8,944 kB]\n",
      "Get:13 http://archive.ubuntu.com/ubuntu jammy-updates/main amd64 Packages [3,245 kB]\n",
      "Get:14 https://r2u.stat.illinois.edu/ubuntu jammy/main amd64 Packages [2,725 kB]\n",
      "Get:15 http://security.ubuntu.com/ubuntu jammy-security/universe amd64 Packages [1,245 kB]\n",
      "Get:16 http://archive.ubuntu.com/ubuntu jammy-updates/universe amd64 Packages [1,546 kB]\n",
      "Get:17 http://archive.ubuntu.com/ubuntu jammy-updates/restricted amd64 Packages [4,517 kB]\n",
      "Get:18 http://archive.ubuntu.com/ubuntu jammy-backports/universe amd64 Packages [35.2 kB]\n",
      "Get:19 https://ppa.launchpadcontent.net/ubuntugis/ppa/ubuntu jammy/main amd64 Packages [77.3 kB]\n",
      "Get:20 http://archive.ubuntu.com/ubuntu jammy-backports/main amd64 Packages [83.2 kB]\n",
      "Get:21 http://security.ubuntu.com/ubuntu jammy-security/main amd64 Packages [2,934 kB]\n",
      "Get:22 http://security.ubuntu.com/ubuntu jammy-security/restricted amd64 Packages [4,363 kB]\n",
      "Fetched 31.8 MB in 9s (3,589 kB/s)\n",
      "Reading package lists...\n",
      "W: Skipping acquire of configured file 'main/source/Sources' as repository 'https://r2u.stat.illinois.edu/ubuntu jammy InRelease' does not seem to provide it (sources.list entry misspelt?)\n",
      "Reading package lists...\n",
      "Building dependency tree...\n",
      "Reading state information...\n",
      "The following additional packages will be installed:\n",
      "  libpoppler-dev libpoppler-private-dev libpoppler118\n",
      "The following NEW packages will be installed:\n",
      "  poppler-utils\n",
      "The following packages will be upgraded:\n",
      "  libpoppler-dev libpoppler-private-dev libpoppler118\n",
      "3 upgraded, 1 newly installed, 0 to remove and 141 not upgraded.\n",
      "Need to get 1,462 kB of archives.\n",
      "After this operation, 700 kB of additional disk space will be used.\n",
      "Get:1 http://archive.ubuntu.com/ubuntu jammy-updates/main amd64 libpoppler-private-dev amd64 22.02.0-2ubuntu0.8 [199 kB]\n",
      "Get:2 http://archive.ubuntu.com/ubuntu jammy-updates/main amd64 libpoppler-dev amd64 22.02.0-2ubuntu0.8 [5,186 B]\n",
      "Get:3 http://archive.ubuntu.com/ubuntu jammy-updates/main amd64 libpoppler118 amd64 22.02.0-2ubuntu0.8 [1,072 kB]\n",
      "Get:4 http://archive.ubuntu.com/ubuntu jammy-updates/main amd64 poppler-utils amd64 22.02.0-2ubuntu0.8 [186 kB]\n",
      "Fetched 1,462 kB in 1s (1,065 kB/s)\n",
      "(Reading database ... 129184 files and directories currently installed.)\n",
      "Preparing to unpack .../libpoppler-private-dev_22.02.0-2ubuntu0.8_amd64.deb ...\n",
      "Unpacking libpoppler-private-dev:amd64 (22.02.0-2ubuntu0.8) over (22.02.0-2ubuntu0.6) ...\n",
      "Preparing to unpack .../libpoppler-dev_22.02.0-2ubuntu0.8_amd64.deb ...\n",
      "Unpacking libpoppler-dev:amd64 (22.02.0-2ubuntu0.8) over (22.02.0-2ubuntu0.6) ...\n",
      "Preparing to unpack .../libpoppler118_22.02.0-2ubuntu0.8_amd64.deb ...\n",
      "Unpacking libpoppler118:amd64 (22.02.0-2ubuntu0.8) over (22.02.0-2ubuntu0.6) ...\n",
      "Selecting previously unselected package poppler-utils.\n",
      "Preparing to unpack .../poppler-utils_22.02.0-2ubuntu0.8_amd64.deb ...\n",
      "Unpacking poppler-utils (22.02.0-2ubuntu0.8) ...\n",
      "Setting up libpoppler118:amd64 (22.02.0-2ubuntu0.8) ...\n",
      "Setting up poppler-utils (22.02.0-2ubuntu0.8) ...\n",
      "Setting up libpoppler-dev:amd64 (22.02.0-2ubuntu0.8) ...\n",
      "Setting up libpoppler-private-dev:amd64 (22.02.0-2ubuntu0.8) ...\n",
      "Processing triggers for man-db (2.10.2-1) ...\n",
      "Processing triggers for libc-bin (2.35-0ubuntu3.8) ...\n",
      "/sbin/ldconfig.real: /usr/local/lib/libumf.so.0 is not a symbolic link\n",
      "\n",
      "/sbin/ldconfig.real: /usr/local/lib/libtcm.so.1 is not a symbolic link\n",
      "\n",
      "/sbin/ldconfig.real: /usr/local/lib/libtcm_debug.so.1 is not a symbolic link\n",
      "\n",
      "/sbin/ldconfig.real: /usr/local/lib/libhwloc.so.15 is not a symbolic link\n",
      "\n",
      "/sbin/ldconfig.real: /usr/local/lib/libur_loader.so.0 is not a symbolic link\n",
      "\n",
      "/sbin/ldconfig.real: /usr/local/lib/libur_adapter_level_zero.so.0 is not a symbolic link\n",
      "\n",
      "/sbin/ldconfig.real: /usr/local/lib/libur_adapter_opencl.so.0 is not a symbolic link\n",
      "\n",
      "/sbin/ldconfig.real: /usr/local/lib/libtbbbind_2_5.so.3 is not a symbolic link\n",
      "\n",
      "/sbin/ldconfig.real: /usr/local/lib/libtbbbind.so.3 is not a symbolic link\n",
      "\n",
      "/sbin/ldconfig.real: /usr/local/lib/libtbbbind_2_0.so.3 is not a symbolic link\n",
      "\n",
      "/sbin/ldconfig.real: /usr/local/lib/libtbb.so.12 is not a symbolic link\n",
      "\n",
      "/sbin/ldconfig.real: /usr/local/lib/libtbbmalloc_proxy.so.2 is not a symbolic link\n",
      "\n",
      "/sbin/ldconfig.real: /usr/local/lib/libtbbmalloc.so.2 is not a symbolic link\n",
      "\n"
     ]
    }
   ],
   "source": [
    "!apt-get -q update\n",
    "!apt-get install -yq poppler-utils"
   ]
  },
  {
   "cell_type": "code",
   "execution_count": 7,
   "metadata": {
    "execution": {
     "iopub.execute_input": "2025-05-18T10:56:59.670560Z",
     "iopub.status.busy": "2025-05-18T10:56:59.670306Z",
     "iopub.status.idle": "2025-05-18T10:56:59.687039Z",
     "shell.execute_reply": "2025-05-18T10:56:59.686470Z",
     "shell.execute_reply.started": "2025-05-18T10:56:59.670538Z"
    },
    "trusted": true
   },
   "outputs": [],
   "source": [
    "from pdf2image import convert_from_path\n",
    "from tqdm import tqdm\n",
    "import shutil\n",
    "import os"
   ]
  },
  {
   "cell_type": "markdown",
   "metadata": {},
   "source": [
    "## 3.1 Delete the pdf_images folder if exists and then create a new folder"
   ]
  },
  {
   "cell_type": "code",
   "execution_count": 8,
   "metadata": {
    "execution": {
     "iopub.execute_input": "2025-05-18T10:56:59.688533Z",
     "iopub.status.busy": "2025-05-18T10:56:59.687862Z",
     "iopub.status.idle": "2025-05-18T10:56:59.693052Z",
     "shell.execute_reply": "2025-05-18T10:56:59.692340Z",
     "shell.execute_reply.started": "2025-05-18T10:56:59.688513Z"
    },
    "trusted": true
   },
   "outputs": [
    {
     "name": "stdout",
     "output_type": "stream",
     "text": [
      "Cleaning output folder /kaggle/working/page_images\n"
     ]
    }
   ],
   "source": [
    "output_folder='/kaggle/working/page_images'\n",
    "print(f\"Cleaning output folder {output_folder}\")\n",
    "if os.path.exists(output_folder):\n",
    "    shutil.rmtree(output_folder)\n",
    "os.makedirs(output_folder)"
   ]
  },
  {
   "cell_type": "markdown",
   "metadata": {},
   "source": [
    "## 3.2 Convert all the PDf pages to images and store in pdf_images folder"
   ]
  },
  {
   "cell_type": "code",
   "execution_count": 9,
   "metadata": {
    "execution": {
     "iopub.execute_input": "2025-05-18T10:56:59.694040Z",
     "iopub.status.busy": "2025-05-18T10:56:59.693782Z",
     "iopub.status.idle": "2025-05-18T10:56:59.766015Z",
     "shell.execute_reply": "2025-05-18T10:56:59.765481Z",
     "shell.execute_reply.started": "2025-05-18T10:56:59.694017Z"
    },
    "trusted": true
   },
   "outputs": [
    {
     "data": {
      "text/plain": [
       "299"
      ]
     },
     "execution_count": 9,
     "metadata": {},
     "output_type": "execute_result"
    }
   ],
   "source": [
    "pdf_folder='/kaggle/input/prusa-mks3-5-pdf-data'\n",
    "\n",
    "pdf_files=[file for file in os.listdir(pdf_folder) if file.lower().endswith('.pdf')]\n",
    "len(pdf_files)"
   ]
  },
  {
   "cell_type": "code",
   "execution_count": 10,
   "metadata": {
    "execution": {
     "iopub.execute_input": "2025-05-18T10:56:59.766813Z",
     "iopub.status.busy": "2025-05-18T10:56:59.766600Z",
     "iopub.status.idle": "2025-05-18T10:59:43.147453Z",
     "shell.execute_reply": "2025-05-18T10:59:43.146661Z",
     "shell.execute_reply.started": "2025-05-18T10:56:59.766798Z"
    },
    "trusted": true
   },
   "outputs": [
    {
     "name": "stderr",
     "output_type": "stream",
     "text": [
      "Processing PDF files: 100%|██████████| 299/299 [02:43<00:00,  1.83it/s]\n"
     ]
    }
   ],
   "source": [
    "image_paths=[]\n",
    "for pdf_file in tqdm(pdf_files,desc='Processing PDF files'):\n",
    "    pdf_path=os.path.join(pdf_folder,pdf_file)\n",
    "    pdf_name=os.path.splitext(pdf_file)[0]\n",
    "    pdf_output_folder=os.path.join(output_folder,pdf_name)\n",
    "    os.makedirs(pdf_output_folder,exist_ok=True)\n",
    "    \n",
    "    \n",
    "    try:\n",
    "        images=convert_from_path(pdf_path)\n",
    "        for i,image in enumerate(images):\n",
    "            image_path=os.path.join(pdf_output_folder,f\"page_{i+1}.png\")\n",
    "            image_paths.append(image_path)\n",
    "            image.save(image_path,\"PNG\")\n",
    "    except Exception as e:\n",
    "        print(f\"Failed to convert {pdf_file}:{e}\")"
   ]
  },
  {
   "cell_type": "markdown",
   "metadata": {},
   "source": [
    "# 4. Create the embeddings for the PDF page images"
   ]
  },
  {
   "cell_type": "code",
   "execution_count": 11,
   "metadata": {
    "execution": {
     "iopub.execute_input": "2025-05-18T10:59:43.149152Z",
     "iopub.status.busy": "2025-05-18T10:59:43.148335Z",
     "iopub.status.idle": "2025-05-18T10:59:52.908602Z",
     "shell.execute_reply": "2025-05-18T10:59:52.907880Z",
     "shell.execute_reply.started": "2025-05-18T10:59:43.149132Z"
    },
    "trusted": true
   },
   "outputs": [
    {
     "name": "stdout",
     "output_type": "stream",
     "text": [
      "\u001b[2K   \u001b[90m━━━━━━━━━━━━━━━━━━━━━━━━━━━━━━━━━━━━━━━━\u001b[0m \u001b[32m288.2/288.2 kB\u001b[0m \u001b[31m9.0 MB/s\u001b[0m eta \u001b[36m0:00:00\u001b[0m\n",
      "\u001b[2K   \u001b[90m━━━━━━━━━━━━━━━━━━━━━━━━━━━━━━━━━━━━━━━━\u001b[0m \u001b[32m54.1/54.1 MB\u001b[0m \u001b[31m33.2 MB/s\u001b[0m eta \u001b[36m0:00:00\u001b[0m:00:01\u001b[0m00:01\u001b[0m\n",
      "\u001b[2K   \u001b[90m━━━━━━━━━━━━━━━━━━━━━━━━━━━━━━━━━━━━━━━━\u001b[0m \u001b[32m323.1/323.1 kB\u001b[0m \u001b[31m19.3 MB/s\u001b[0m eta \u001b[36m0:00:00\u001b[0m\n",
      "\u001b[2K   \u001b[90m━━━━━━━━━━━━━━━━━━━━━━━━━━━━━━━━━━━━━━━━\u001b[0m \u001b[32m95.2/95.2 kB\u001b[0m \u001b[31m6.6 MB/s\u001b[0m eta \u001b[36m0:00:00\u001b[0m\n",
      "\u001b[2K   \u001b[90m━━━━━━━━━━━━━━━━━━━━━━━━━━━━━━━━━━━━━━━━\u001b[0m \u001b[32m11.6/11.6 MB\u001b[0m \u001b[31m109.0 MB/s\u001b[0m eta \u001b[36m0:00:00\u001b[0m00:01\u001b[0m0:01\u001b[0m\n",
      "\u001b[2K   \u001b[90m━━━━━━━━━━━━━━━━━━━━━━━━━━━━━━━━━━━━━━━━\u001b[0m \u001b[32m72.0/72.0 kB\u001b[0m \u001b[31m5.2 MB/s\u001b[0m eta \u001b[36m0:00:00\u001b[0m\n",
      "\u001b[2K   \u001b[90m━━━━━━━━━━━━━━━━━━━━━━━━━━━━━━━━━━━━━━━━\u001b[0m \u001b[32m62.5/62.5 kB\u001b[0m \u001b[31m3.8 MB/s\u001b[0m eta \u001b[36m0:00:00\u001b[0m\n",
      "\u001b[?25h"
     ]
    }
   ],
   "source": [
    "!pip -q install spaces"
   ]
  },
  {
   "cell_type": "code",
   "execution_count": 12,
   "metadata": {
    "execution": {
     "iopub.execute_input": "2025-05-18T10:59:52.910405Z",
     "iopub.status.busy": "2025-05-18T10:59:52.909815Z",
     "iopub.status.idle": "2025-05-18T10:59:53.001178Z",
     "shell.execute_reply": "2025-05-18T10:59:53.000665Z",
     "shell.execute_reply.started": "2025-05-18T10:59:52.910377Z"
    },
    "trusted": true
   },
   "outputs": [],
   "source": [
    "import spaces\n",
    "from typing import List\n",
    "from PIL import Image"
   ]
  },
  {
   "cell_type": "code",
   "execution_count": 13,
   "metadata": {
    "execution": {
     "iopub.execute_input": "2025-05-18T10:59:53.002188Z",
     "iopub.status.busy": "2025-05-18T10:59:53.001944Z",
     "iopub.status.idle": "2025-05-18T10:59:53.056213Z",
     "shell.execute_reply": "2025-05-18T10:59:53.055546Z",
     "shell.execute_reply.started": "2025-05-18T10:59:53.002163Z"
    },
    "trusted": true
   },
   "outputs": [
    {
     "data": {
      "text/plain": [
       "458"
      ]
     },
     "execution_count": 13,
     "metadata": {},
     "output_type": "execute_result"
    }
   ],
   "source": [
    "@spaces.GPU\n",
    "def get_images(folder_path: str) -> List[Image.Image]:\n",
    "    images = []\n",
    "    folders = os.listdir(folder_path)\n",
    "    \n",
    "    for folder in folders:\n",
    "        subfolder_path = os.path.join(folder_path, folder)\n",
    "        if os.path.isdir(subfolder_path):\n",
    "            for file in os.listdir(subfolder_path):\n",
    "                file_path = os.path.join(subfolder_path, file)\n",
    "                try:\n",
    "                    img = Image.open(file_path)\n",
    "                    images.append(img)\n",
    "                except Exception as e:\n",
    "                    print(f\"Skipping {file_path}: {e}\")\n",
    "        else:\n",
    "            try:\n",
    "                img = Image.open(subfolder_path)\n",
    "                images.append(img)\n",
    "            except Exception as e:\n",
    "                print(f\"Skipping {subfolder_path}: {e}\")\n",
    "    \n",
    "    return images\n",
    "\n",
    "image_list=get_images('/kaggle/working/page_images')\n",
    "len(image_list)"
   ]
  },
  {
   "cell_type": "code",
   "execution_count": 14,
   "metadata": {
    "execution": {
     "iopub.execute_input": "2025-05-18T10:59:53.057058Z",
     "iopub.status.busy": "2025-05-18T10:59:53.056849Z",
     "iopub.status.idle": "2025-05-18T10:59:53.061558Z",
     "shell.execute_reply": "2025-05-18T10:59:53.060882Z",
     "shell.execute_reply.started": "2025-05-18T10:59:53.057044Z"
    },
    "trusted": true
   },
   "outputs": [],
   "source": [
    "datalaoder=DataLoader(\n",
    "    dataset=ListDataset[str](image_list),\n",
    "    batch_size=10,\n",
    "    shuffle=False,\n",
    "    collate_fn=lambda x:processor.process_images(x),\n",
    ")"
   ]
  },
  {
   "cell_type": "code",
   "execution_count": 15,
   "metadata": {
    "execution": {
     "iopub.execute_input": "2025-05-18T10:59:53.062466Z",
     "iopub.status.busy": "2025-05-18T10:59:53.062238Z",
     "iopub.status.idle": "2025-05-18T11:08:41.988147Z",
     "shell.execute_reply": "2025-05-18T11:08:41.987543Z",
     "shell.execute_reply.started": "2025-05-18T10:59:53.062442Z"
    },
    "trusted": true
   },
   "outputs": [
    {
     "name": "stderr",
     "output_type": "stream",
     "text": [
      "100%|██████████| 46/46 [08:43<00:00, 11.38s/it]\n"
     ]
    }
   ],
   "source": [
    "ds:List[torch.Tensor]=[]\n",
    "for batch_doc in tqdm(datalaoder):\n",
    "    with torch.no_grad():\n",
    "        batch_doc={k:v.to(model.device) for k,v in batch_doc.items()}\n",
    "        embeddings_doc=model(**batch_doc)\n",
    "    ds.extend(list(torch.unbind(embeddings_doc.to(device))))\n",
    "ds_np=[d.float().cpu().numpy() for d in ds]\n"
   ]
  },
  {
   "cell_type": "code",
   "execution_count": 16,
   "metadata": {
    "execution": {
     "iopub.execute_input": "2025-05-18T11:08:41.989134Z",
     "iopub.status.busy": "2025-05-18T11:08:41.988883Z",
     "iopub.status.idle": "2025-05-18T11:08:41.994715Z",
     "shell.execute_reply": "2025-05-18T11:08:41.994072Z",
     "shell.execute_reply.started": "2025-05-18T11:08:41.989112Z"
    },
    "trusted": true
   },
   "outputs": [
    {
     "name": "stdout",
     "output_type": "stream",
     "text": [
      "Demo embeddings: \n",
      " [array([[-0.20019531,  0.12597656,  0.18261719, ...,  0.02526855,\n",
      "        -0.00136566, -0.11523438],\n",
      "       [-0.2265625 ,  0.05444336,  0.203125  , ...,  0.06982422,\n",
      "         0.01470947, -0.02331543],\n",
      "       [-0.02514648,  0.11669922,  0.11181641, ...,  0.03369141,\n",
      "         0.02685547, -0.02160645],\n",
      "       ...,\n",
      "       [-0.01287842, -0.10595703,  0.13476562, ..., -0.05273438,\n",
      "        -0.02819824,  0.03417969],\n",
      "       [-0.27929688,  0.03540039,  0.07470703, ...,  0.01239014,\n",
      "         0.00283813, -0.02783203],\n",
      "       [-0.25390625,  0.05615234,  0.26757812, ...,  0.0703125 ,\n",
      "        -0.10986328, -0.12402344]], dtype=float32)]\n",
      "\n",
      "Print the number of embeddings created:  458\n"
     ]
    }
   ],
   "source": [
    "print(\"Demo embeddings: \\n\",ds_np[:1])\n",
    "print(\"\\nPrint the number of embeddings created: \",len(ds_np))"
   ]
  },
  {
   "cell_type": "markdown",
   "metadata": {},
   "source": [
    "# 5. Initialising Melvus and Create Collection"
   ]
  },
  {
   "cell_type": "code",
   "execution_count": 17,
   "metadata": {
    "execution": {
     "iopub.execute_input": "2025-05-18T11:08:41.995751Z",
     "iopub.status.busy": "2025-05-18T11:08:41.995530Z",
     "iopub.status.idle": "2025-05-18T11:08:49.139114Z",
     "shell.execute_reply": "2025-05-18T11:08:49.138367Z",
     "shell.execute_reply.started": "2025-05-18T11:08:41.995732Z"
    },
    "trusted": true
   },
   "outputs": [
    {
     "name": "stderr",
     "output_type": "stream",
     "text": [
      "huggingface/tokenizers: The current process just got forked, after parallelism has already been used. Disabling parallelism to avoid deadlocks...\n",
      "To disable this warning, you can either:\n",
      "\t- Avoid using `tokenizers` before the fork if possible\n",
      "\t- Explicitly set the environment variable TOKENIZERS_PARALLELISM=(true | false)\n"
     ]
    },
    {
     "name": "stdout",
     "output_type": "stream",
     "text": [
      "\u001b[2K   \u001b[90m━━━━━━━━━━━━━━━━━━━━━━━━━━━━━━━━━━━━━━━━\u001b[0m \u001b[32m227.6/227.6 kB\u001b[0m \u001b[31m7.6 MB/s\u001b[0m eta \u001b[36m0:00:00\u001b[0m\n",
      "\u001b[2K   \u001b[90m━━━━━━━━━━━━━━━━━━━━━━━━━━━━━━━━━━━━━━━━\u001b[0m \u001b[32m5.9/5.9 MB\u001b[0m \u001b[31m84.5 MB/s\u001b[0m eta \u001b[36m0:00:00\u001b[0m:00:01\u001b[0m00:01\u001b[0m\n",
      "\u001b[2K   \u001b[90m━━━━━━━━━━━━━━━━━━━━━━━━━━━━━━━━━━━━━━━━\u001b[0m \u001b[32m45.2/45.2 MB\u001b[0m \u001b[31m39.4 MB/s\u001b[0m eta \u001b[36m0:00:00\u001b[0m:00:01\u001b[0m00:01\u001b[0m\n",
      "\u001b[?25h"
     ]
    }
   ],
   "source": [
    "!pip install -q pymilvus"
   ]
  },
  {
   "cell_type": "code",
   "execution_count": null,
   "metadata": {
    "execution": {
     "iopub.execute_input": "2025-05-18T12:46:39.051555Z",
     "iopub.status.busy": "2025-05-18T12:46:39.051212Z",
     "iopub.status.idle": "2025-05-18T12:46:39.971262Z",
     "shell.execute_reply": "2025-05-18T12:46:39.970558Z",
     "shell.execute_reply.started": "2025-05-18T12:46:39.051532Z"
    },
    "trusted": true
   },
   "outputs": [
    {
     "name": "stdout",
     "output_type": "stream",
     "text": [
      "Collection is created annd indexed\n"
     ]
    }
   ],
   "source": [
    "from pymilvus import MilvusClient, DataType\n",
    "from dotenv import load_dotenv\n",
    "\n",
    "load_dotenv()\n",
    "db_token = os.getenv(\"VDB_TOKEN\")\n",
    "uri=os.getenv(\"URI\")\n",
    "collection_name='prusa_printer'\n",
    "milvus_uri=uri\n",
    "create_collection=True\n",
    "vector_dims=128\n",
    "\n",
    "client=MilvusClient(uri=milvus_uri,token=db_token)\n",
    "if client.has_collection(collection_name=collection_name):\n",
    "    #Load the exisiting collection\n",
    "    client.load_collection(collection_name=collection_name)\n",
    "    print(\"Using the exisiting collection.\")\n",
    "if create_collection:\n",
    "    if client.has_collection(collection_name=collection_name):\n",
    "        #I exisit delete the old schema\n",
    "        client.drop_collection(collection_name=collection_name)\n",
    "        print(\"Deleting the old collection...\")\n",
    "        \n",
    "    #Create a schema   \n",
    "    schema=client.create_schema(auto_id=True,enable_dynamic_fields=True)\n",
    "    schema.add_field(field_name='pk',datatype=DataType.INT64,is_primary=True)\n",
    "    schema.add_field(field_name='vector',datatype=DataType.FLOAT_VECTOR,dim=vector_dims)\n",
    "    schema.add_field(field_name='seq_id',datatype=DataType.INT16)\n",
    "    schema.add_field(field_name='doc_id',datatype=DataType.INT64)\n",
    "    schema.add_field(field_name='doc',datatype=DataType.VARCHAR,max_length=65535)\n",
    "    \n",
    "    #Create the collection using the schema\n",
    "    client.create_collection(collection_name=collection_name,\n",
    "                             schema=schema)\n",
    "\n",
    "    #Create index for vector search\n",
    "    client.release_collection(collection_name=collection_name)\n",
    "    client.drop_index(collection_name=collection_name,\n",
    "                      index_name='vector')\n",
    "    index_params=client.prepare_index_params()\n",
    "    index_params.add_index(\n",
    "        field_name='vector',\n",
    "        index_name='vector_index',\n",
    "        index_type=\"IVF_FLAT\",\n",
    "        metric_type=\"L2\",\n",
    "        params={\n",
    "            \"nlist\":128\n",
    "        },\n",
    "    )\n",
    "    client.create_index(collection_name=collection_name,\n",
    "                        index_params=index_params,\n",
    "                        sync=True)\n",
    "    print(\"Collection is created annd indexed\")"
   ]
  },
  {
   "cell_type": "markdown",
   "metadata": {},
   "source": [
    "# Insert the embeddings in the VectorDB"
   ]
  },
  {
   "cell_type": "code",
   "execution_count": 54,
   "metadata": {
    "execution": {
     "iopub.execute_input": "2025-05-18T12:46:46.867744Z",
     "iopub.status.busy": "2025-05-18T12:46:46.867061Z",
     "iopub.status.idle": "2025-05-18T12:46:46.874851Z",
     "shell.execute_reply": "2025-05-18T12:46:46.873888Z",
     "shell.execute_reply.started": "2025-05-18T12:46:46.867711Z"
    },
    "trusted": true
   },
   "outputs": [
    {
     "data": {
      "text/plain": [
       "[{'colbert_vecs': array([[-0.20019531,  0.12597656,  0.18261719, ...,  0.02526855,\n",
       "          -0.00136566, -0.11523438],\n",
       "         [-0.2265625 ,  0.05444336,  0.203125  , ...,  0.06982422,\n",
       "           0.01470947, -0.02331543],\n",
       "         [-0.02514648,  0.11669922,  0.11181641, ...,  0.03369141,\n",
       "           0.02685547, -0.02160645],\n",
       "         ...,\n",
       "         [-0.01287842, -0.10595703,  0.13476562, ..., -0.05273438,\n",
       "          -0.02819824,  0.03417969],\n",
       "         [-0.27929688,  0.03540039,  0.07470703, ...,  0.01239014,\n",
       "           0.00283813, -0.02783203],\n",
       "         [-0.25390625,  0.05615234,  0.26757812, ...,  0.0703125 ,\n",
       "          -0.10986328, -0.12402344]], dtype=float32),\n",
       "  'filepath': '/kaggle/working/page_images/27. Installing the Y-carriage-1/page_1.png',\n",
       "  'doc_id': 0},\n",
       " {'colbert_vecs': array([[ 0.07080078,  0.03417969,  0.08251953, ...,  0.06079102,\n",
       "           0.08984375,  0.11474609],\n",
       "         [-0.07128906,  0.00738525, -0.01965332, ...,  0.06787109,\n",
       "           0.04956055,  0.14355469],\n",
       "         [-0.10449219,  0.01434326, -0.0255127 , ...,  0.03637695,\n",
       "           0.09814453,  0.12158203],\n",
       "         ...,\n",
       "         [-0.03955078, -0.12304688,  0.14941406, ..., -0.07177734,\n",
       "           0.03393555,  0.10546875],\n",
       "         [-0.18164062,  0.0043335 ,  0.08544922, ...,  0.09033203,\n",
       "          -0.00268555,  0.03857422],\n",
       "         [-0.1953125 ,  0.00147247,  0.19824219, ...,  0.09863281,\n",
       "          -0.06591797, -0.10742188]], dtype=float32),\n",
       "  'filepath': '/kaggle/working/page_images/33.Assembling the belt-1/page_1.png',\n",
       "  'doc_id': 1},\n",
       " {'colbert_vecs': array([[ 0.06298828,  0.02294922,  0.12304688, ...,  0.06689453,\n",
       "           0.11865234,  0.09863281],\n",
       "         [-0.04077148,  0.05981445,  0.0378418 , ...,  0.05834961,\n",
       "           0.10986328,  0.08935547],\n",
       "         [-0.07861328, -0.00262451,  0.01464844, ...,  0.02636719,\n",
       "           0.12060547,  0.12988281],\n",
       "         ...,\n",
       "         [-0.03369141, -0.078125  ,  0.10009766, ...,  0.00280762,\n",
       "           0.02001953,  0.06542969],\n",
       "         [-0.11962891, -0.05859375,  0.140625  , ...,  0.05004883,\n",
       "           0.03930664, -0.04345703],\n",
       "         [-0.10400391, -0.00259399,  0.23144531, ...,  0.13476562,\n",
       "          -0.10449219, -0.13183594]], dtype=float32),\n",
       "  'filepath': '/kaggle/working/page_images/7. Assembling the X-axis and smooth rods-2/page_1.png',\n",
       "  'doc_id': 2}]"
      ]
     },
     "execution_count": 54,
     "metadata": {},
     "output_type": "execute_result"
    }
   ],
   "source": [
    "image_data=[]\n",
    "for idx,(vec,path) in enumerate(zip(ds_np,image_paths)):\n",
    "    image_data.append({\n",
    "        \"colbert_vecs\":vec,\n",
    "        \"filepath\":path, #!! Need to be the path for the image\n",
    "        \"doc_id\":idx\n",
    "    })\n",
    "image_data[:3]"
   ]
  },
  {
   "cell_type": "code",
   "execution_count": 58,
   "metadata": {
    "execution": {
     "iopub.execute_input": "2025-05-18T12:55:04.401652Z",
     "iopub.status.busy": "2025-05-18T12:55:04.400917Z",
     "iopub.status.idle": "2025-05-18T12:55:04.407245Z",
     "shell.execute_reply": "2025-05-18T12:55:04.406690Z",
     "shell.execute_reply.started": "2025-05-18T12:55:04.401625Z"
    },
    "trusted": true
   },
   "outputs": [
    {
     "data": {
      "text/plain": [
       "array([-2.53906250e-01,  5.61523438e-02,  2.67578125e-01, -2.92968750e-02,\n",
       "       -5.44433594e-02,  8.59375000e-02, -9.71679688e-02, -9.58251953e-03,\n",
       "       -1.01318359e-02, -3.66210938e-02, -1.20605469e-01, -7.91015625e-02,\n",
       "       -8.44726562e-02,  9.13085938e-02,  8.34960938e-02,  1.63574219e-02,\n",
       "        4.73022461e-03,  2.89916992e-03,  1.31835938e-01, -5.15136719e-02,\n",
       "       -3.01513672e-02,  3.32031250e-02, -7.47070312e-02, -1.41601562e-01,\n",
       "       -5.85937500e-02,  4.60815430e-03,  7.91015625e-02,  1.19781494e-03,\n",
       "       -1.18164062e-01, -5.51757812e-02, -1.61132812e-01,  1.16699219e-01,\n",
       "       -4.59671021e-04, -2.36816406e-02, -3.54003906e-03,  4.88281250e-02,\n",
       "        6.93359375e-02, -4.93164062e-02,  9.81445312e-02, -4.11987305e-03,\n",
       "        8.69140625e-02, -9.13085938e-02,  6.68945312e-02,  1.80664062e-02,\n",
       "       -4.12597656e-02, -1.63085938e-01,  3.19824219e-02, -5.10253906e-02,\n",
       "       -9.03320312e-02, -3.63769531e-02,  7.23266602e-03, -1.06445312e-01,\n",
       "        2.72216797e-02,  2.11181641e-02, -1.71875000e-01, -1.14746094e-01,\n",
       "        2.63671875e-02,  1.16699219e-01, -8.74023438e-02, -2.16064453e-02,\n",
       "        6.88476562e-02,  8.83789062e-02, -3.17382812e-02, -1.55273438e-01,\n",
       "       -1.04492188e-01,  1.55273438e-01,  1.00585938e-01,  9.33837891e-03,\n",
       "        1.89208984e-02, -1.81640625e-01, -2.60925293e-03,  4.73632812e-02,\n",
       "        1.09375000e-01,  1.23901367e-02,  1.12304688e-01,  1.59912109e-02,\n",
       "       -3.90625000e-02, -4.66308594e-02, -2.52685547e-02,  4.83398438e-02,\n",
       "       -1.01562500e-01,  3.32031250e-02,  5.46875000e-02, -8.98437500e-02,\n",
       "        1.00708008e-02, -3.08837891e-02,  4.86373901e-04,  1.12792969e-01,\n",
       "       -6.07910156e-02, -7.42187500e-02,  1.04492188e-01,  1.85546875e-01,\n",
       "        4.22363281e-02, -6.73828125e-02, -1.93359375e-01, -1.47460938e-01,\n",
       "        2.12402344e-02, -7.42187500e-02,  1.79687500e-01,  6.59179688e-02,\n",
       "        6.03027344e-02,  1.25976562e-01,  5.10253906e-02, -5.78613281e-02,\n",
       "        7.11059570e-03, -1.68800354e-04,  3.75976562e-02, -5.59082031e-02,\n",
       "       -5.93261719e-02, -4.80957031e-02, -1.07910156e-01,  4.19921875e-02,\n",
       "        1.04980469e-01, -1.16699219e-01, -1.01562500e-01,  1.47094727e-02,\n",
       "       -2.33154297e-02,  8.36181641e-03, -7.27539062e-02,  5.24902344e-02,\n",
       "        3.44238281e-02,  2.05078125e-01, -7.51953125e-02, -5.24902344e-02,\n",
       "        3.34472656e-02,  7.03125000e-02, -1.09863281e-01, -1.24023438e-01],\n",
       "      dtype=float32)"
      ]
     },
     "execution_count": 58,
     "metadata": {},
     "output_type": "execute_result"
    }
   ],
   "source": [
    "eg1=image_data[0]\n",
    "seq1=eg1['colbert_vecs'][0]\n",
    "seq_last=eg1['colbert_vecs'][1030]\n",
    "seq_last"
   ]
  },
  {
   "cell_type": "code",
   "execution_count": 56,
   "metadata": {
    "execution": {
     "iopub.execute_input": "2025-05-18T12:48:25.766743Z",
     "iopub.status.busy": "2025-05-18T12:48:25.766444Z",
     "iopub.status.idle": "2025-05-18T12:49:47.608674Z",
     "shell.execute_reply": "2025-05-18T12:49:47.608047Z",
     "shell.execute_reply.started": "2025-05-18T12:48:25.766721Z"
    },
    "trusted": true
   },
   "outputs": [
    {
     "name": "stdout",
     "output_type": "stream",
     "text": [
      "All Data inserted successfully\n"
     ]
    }
   ],
   "source": [
    "for data in image_data:\n",
    "    colbert_vecs=data['colbert_vecs']\n",
    "    if isinstance(colbert_vecs, np.ndarray) and len(colbert_vecs.shape) == 2:\n",
    "        colbert_vecs = colbert_vecs.tolist()\n",
    "    seq_length=len(colbert_vecs)\n",
    "    seq_ids=list(range(seq_length))\n",
    "    docs_ids = [data[\"doc_id\"]] * seq_length\n",
    "    docs = [data[\"filepath\"]] * seq_length\n",
    "\n",
    "    records=[{\n",
    "        \"vector\":colbert_vecs[i],\n",
    "        \"seq_id\":seq_ids[i],\n",
    "        \"doc_id\":docs_ids[i],\n",
    "        \"doc\":docs[i]\n",
    "    }for i in range(seq_length)]\n",
    "    # for rec in records:\n",
    "    #     print(f\"seq_id: {rec.get('seq_id')}\")\n",
    "    #     print(f\"doc_id: {rec.get('doc_id')}\")\n",
    "    #     print(f\"doc: {rec.get('doc')}\")\n",
    "    #     print(\"-\" * 40)\n",
    "    client.insert(collection_name=collection_name,data=records)\n",
    "print(\"All Data inserted successfully\")"
   ]
  },
  {
   "cell_type": "markdown",
   "metadata": {},
   "source": [
    "# Search for the query "
   ]
  },
  {
   "cell_type": "code",
   "execution_count": 60,
   "metadata": {
    "execution": {
     "iopub.execute_input": "2025-05-18T12:56:33.067027Z",
     "iopub.status.busy": "2025-05-18T12:56:33.066538Z",
     "iopub.status.idle": "2025-05-18T12:56:33.074998Z",
     "shell.execute_reply": "2025-05-18T12:56:33.074172Z",
     "shell.execute_reply.started": "2025-05-18T12:56:33.067003Z"
    },
    "trusted": true
   },
   "outputs": [],
   "source": [
    "import concurrent.futures\n",
    "@spaces.GPU\n",
    "def search_and_rerank(query_vectors: np.ndarray, topk: int = 5):\n",
    "    query_vectors = np.atleast_2d(query_vectors)\n",
    "    search_params = {\"metric_type\": \"L2\", \"params\": {}}\n",
    "    print(\"searching...\")\n",
    "\n",
    "    # Step 1: Milvus Search\n",
    "    results = client.search(\n",
    "        collection_name,\n",
    "        data=query_vectors.tolist(),\n",
    "        limit=50,\n",
    "        output_fields=[\"vector\", \"seq_id\", \"doc_id\"],\n",
    "        search_params=search_params,\n",
    "    )\n",
    "\n",
    "    # Step 2: Collect document IDs\n",
    "    doc_ids = {r[\"entity\"][\"doc_id\"] for result in results for r in result}\n",
    "\n",
    "    # Step 3: Reranking\n",
    "    print(\"reranking...\")\n",
    "\n",
    "    def rerank_single_doc(doc_id):\n",
    "        doc_colbert_vecs = client.query(\n",
    "            collection_name=collection_name,\n",
    "            filter=f\"doc_id == {doc_id}\",\n",
    "            output_fields=[\"seq_id\", \"vector\", \"doc\"],\n",
    "            limit=1000,\n",
    "        )\n",
    "        if not doc_colbert_vecs:\n",
    "            return (0.0, doc_id)\n",
    "        doc_vecs = np.vstack([vec[\"vector\"] for vec in doc_colbert_vecs])\n",
    "        score = np.dot(query_vectors, doc_vecs.T).max(1).sum()\n",
    "        return (score, doc_id)\n",
    "\n",
    "    scores = []\n",
    "    max_workers = min(8, len(doc_ids))\n",
    "    with concurrent.futures.ThreadPoolExecutor(max_workers=max_workers) as executor:\n",
    "        futures = {executor.submit(rerank_single_doc, doc_id): doc_id for doc_id in doc_ids}\n",
    "        for future in concurrent.futures.as_completed(futures):\n",
    "            scores.append(future.result())\n",
    "\n",
    "    # Step 4: Sort and return top-K\n",
    "    print(\"returning...\")\n",
    "    scores.sort(key=lambda x: x[0], reverse=True)\n",
    "    return scores[:topk]"
   ]
  },
  {
   "cell_type": "code",
   "execution_count": 61,
   "metadata": {
    "execution": {
     "iopub.execute_input": "2025-05-18T12:56:36.615788Z",
     "iopub.status.busy": "2025-05-18T12:56:36.615518Z",
     "iopub.status.idle": "2025-05-18T12:56:47.870411Z",
     "shell.execute_reply": "2025-05-18T12:56:47.869684Z",
     "shell.execute_reply.started": "2025-05-18T12:56:36.615769Z"
    },
    "trusted": true
   },
   "outputs": [
    {
     "name": "stdout",
     "output_type": "stream",
     "text": [
      "searching...\n",
      "reranking...\n",
      "returning...\n"
     ]
    },
    {
     "data": {
      "text/plain": [
       "[(0.9947926, 0), (0.9932466, 384), (0.99171203, 231)]"
      ]
     },
     "execution_count": 61,
     "metadata": {},
     "output_type": "execute_result"
    }
   ],
   "source": [
    "scores=search_and_rerank(seq1,topk=3)\n",
    "scores"
   ]
  },
  {
   "cell_type": "code",
   "execution_count": null,
   "metadata": {
    "trusted": true
   },
   "outputs": [],
   "source": []
  }
 ],
 "metadata": {
  "kaggle": {
   "accelerator": "gpu",
   "dataSources": [
    {
     "datasetId": 7267125,
     "sourceId": 11589465,
     "sourceType": "datasetVersion"
    }
   ],
   "isGpuEnabled": true,
   "isInternetEnabled": true,
   "language": "python",
   "sourceType": "notebook"
  },
  "kernelspec": {
   "display_name": "Python 3",
   "language": "python",
   "name": "python3"
  },
  "language_info": {
   "codemirror_mode": {
    "name": "ipython",
    "version": 3
   },
   "file_extension": ".py",
   "mimetype": "text/x-python",
   "name": "python",
   "nbconvert_exporter": "python",
   "pygments_lexer": "ipython3",
   "version": "3.11.11"
  }
 },
 "nbformat": 4,
 "nbformat_minor": 4
}
